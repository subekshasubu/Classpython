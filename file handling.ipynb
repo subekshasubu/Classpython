{
 "cells": [
  {
   "cell_type": "code",
   "execution_count": 2,
   "metadata": {
    "scrolled": true
   },
   "outputs": [],
   "source": [
    "#b=open(<file_name>,<mode>)# create or opens file\n",
    "#b.close()# file should be closed when opened"
   ]
  },
  {
   "cell_type": "code",
   "execution_count": 4,
   "metadata": {},
   "outputs": [
    {
     "name": "stdout",
     "output_type": "stream",
     "text": [
      "the file is already there\n"
     ]
    }
   ],
   "source": [
    "try:\n",
    "    \n",
    "    b= open('class230pm.txt','x')\n",
    "    b.close()\n",
    "except:\n",
    "    print(\"the file is already there\")"
   ]
  },
  {
   "cell_type": "code",
   "execution_count": 6,
   "metadata": {},
   "outputs": [
    {
     "name": "stdout",
     "output_type": "stream",
     "text": [
      "1. hello world\n",
      "2. hello world\n",
      "3. hello world\n",
      "4. hello world\n",
      "5. hello world\n",
      "6. hello world\n"
     ]
    }
   ],
   "source": [
    "# to read\n",
    "b = open('class230pm.txt','r')\n",
    "print(b.read())\n",
    "b.close()"
   ]
  },
  {
   "cell_type": "code",
   "execution_count": 44,
   "metadata": {},
   "outputs": [
    {
     "name": "stdout",
     "output_type": "stream",
     "text": [
      "\n",
      "<class 'str'>\n"
     ]
    }
   ],
   "source": [
    "# to read\n",
    "b = open('class230pm.txt','r')\n",
    "c=b.read()\n",
    "print(c)\n",
    "print(type(c))\n",
    "b.close()"
   ]
  },
  {
   "cell_type": "code",
   "execution_count": 9,
   "metadata": {},
   "outputs": [
    {
     "name": "stdout",
     "output_type": "stream",
     "text": [
      "1. hello world\n",
      "2. hello world\n",
      "3. hello world\n",
      "4. hello world\n",
      "5. hello world\n",
      "6. hello world\n",
      "<class 'str'>\n"
     ]
    }
   ],
   "source": [
    "b = open('class230pm.txt','r')\n",
    "c=b.read(150)\n",
    "print(c)\n",
    "print(type(c))\n",
    "b.close()"
   ]
  },
  {
   "cell_type": "code",
   "execution_count": 10,
   "metadata": {},
   "outputs": [
    {
     "name": "stdout",
     "output_type": "stream",
     "text": [
      "1. hello world\n",
      "\n",
      "<class 'str'>\n"
     ]
    }
   ],
   "source": [
    "b = open('class230pm.txt','r')\n",
    "c=b.readline()\n",
    "print(c)\n",
    "print(type(c))\n",
    "b.close()"
   ]
  },
  {
   "cell_type": "code",
   "execution_count": 12,
   "metadata": {},
   "outputs": [
    {
     "name": "stdout",
     "output_type": "stream",
     "text": [
      "1. hello world\n",
      "\n",
      "1. hello world\n",
      "\n",
      "<class 'str'>\n"
     ]
    }
   ],
   "source": [
    "b = open('class230pm.txt','r')\n",
    "c=b.readline()\n",
    "print(c)\n",
    "print(c)# limitation \n",
    "print(type(c))\n",
    "b.close()"
   ]
  },
  {
   "cell_type": "code",
   "execution_count": 14,
   "metadata": {},
   "outputs": [
    {
     "name": "stdout",
     "output_type": "stream",
     "text": [
      "1. hello world\n",
      "\n",
      "2. hello world\n",
      "\n"
     ]
    }
   ],
   "source": [
    "b = open('class230pm.txt','r')\n",
    "print(b.readline())\n",
    "print(b.readline())\n",
    "\n",
    "b.close()"
   ]
  },
  {
   "cell_type": "code",
   "execution_count": 15,
   "metadata": {},
   "outputs": [
    {
     "name": "stdout",
     "output_type": "stream",
     "text": [
      "1. hello world\n",
      "\n",
      "2. hello world\n",
      "\n",
      "3. hello world\n",
      "\n",
      "4. hello world\n",
      "\n",
      "5. hello world\n",
      "\n",
      "6. hello world\n",
      "\n"
     ]
    }
   ],
   "source": [
    "b = open('class230pm.txt','r')\n",
    "for i in range(1,8):\n",
    "    print(b.readline())\n",
    "b.close()"
   ]
  },
  {
   "cell_type": "code",
   "execution_count": 17,
   "metadata": {},
   "outputs": [
    {
     "name": "stdout",
     "output_type": "stream",
     "text": [
      "enter line no=3\n",
      "3. hello world\n",
      "\n"
     ]
    }
   ],
   "source": [
    "b = open('class230pm.txt','r')\n",
    "n = int(input(\"enter line no=\"))\n",
    "for i in range(1,7):\n",
    "    if i != n:\n",
    "        b.readline()\n",
    "    else:\n",
    "        print(b.readline())\n",
    "b.close()"
   ]
  },
  {
   "cell_type": "code",
   "execution_count": 19,
   "metadata": {},
   "outputs": [],
   "source": [
    "# write to a file\n",
    "b = open('data.txt','a')\n",
    "b.write(\"hello world\")\n",
    "b.close()"
   ]
  },
  {
   "cell_type": "code",
   "execution_count": 20,
   "metadata": {},
   "outputs": [
    {
     "name": "stdout",
     "output_type": "stream",
     "text": [
      "enter n=3\n",
      "enter name=ram\n",
      "enter phone=85557884\n",
      "enter name=hari\n",
      "enter phone=747474\n",
      "enter name=tim\n",
      "enter phone=747477\n"
     ]
    }
   ],
   "source": [
    "# to write data from string\n",
    "s=\"\"\n",
    "n = int(input(\"enter n=\"))\n",
    "for i in range(n):\n",
    "    name=input(\"enter name=\")\n",
    "    phone=int(input(\"enter phone=\"))\n",
    "    info= f\"{name}....{phone}\\n\"\n",
    "    s= s+info\n",
    "b = open('data.txt','w')\n",
    "b.write(s)\n",
    "b.close()\n",
    "\n",
    "    "
   ]
  },
  {
   "cell_type": "code",
   "execution_count": 22,
   "metadata": {},
   "outputs": [
    {
     "name": "stdout",
     "output_type": "stream",
     "text": [
      "ram....85557884\n",
      "hari....747474\n",
      "tim....747477\n",
      "\n"
     ]
    }
   ],
   "source": [
    "# to read data from string\n",
    "b = open('data.txt','r')\n",
    "print(b.read())\n",
    "b.close()"
   ]
  },
  {
   "cell_type": "code",
   "execution_count": 24,
   "metadata": {},
   "outputs": [
    {
     "name": "stdout",
     "output_type": "stream",
     "text": [
      "enter n=3\n",
      "enter name=tim\n",
      "enter phone=88484\n",
      "enter name=tom\n",
      "enter phone=7474488\n",
      "enter name=eric\n",
      "enter phone=74488483\n"
     ]
    }
   ],
   "source": [
    "# to insert value in tabular format\n",
    "s=\"\"\n",
    "n = int(input(\"enter n=\"))\n",
    "for i in range(n):\n",
    "    name=input(\"enter name=\")\n",
    "    phone=int(input(\"enter phone=\"))\n",
    "    info= f\"{name},{phone}\\n\"\n",
    "    s= s+info\n",
    "b= open('data.csv','w')\n",
    "b.write(s)\n",
    "b.close()\n",
    "# if file is opened then we cant write again"
   ]
  },
  {
   "cell_type": "code",
   "execution_count": 26,
   "metadata": {},
   "outputs": [
    {
     "name": "stdout",
     "output_type": "stream",
     "text": [
      "enter n=2\n",
      "enter name=tim\n",
      "enter phone=987654\n",
      "enter name=tom\n",
      "enter phone=776544\n"
     ]
    }
   ],
   "source": [
    "s=\"\"\n",
    "b= open('data.csv','w')\n",
    "b.write('name,phone\\n')\n",
    "n = int(input(\"enter n=\"))\n",
    "for i in range(n):\n",
    "    name=input(\"enter name=\")\n",
    "    phone=int(input(\"enter phone=\"))\n",
    "    info= f\"{name},{phone}\\n\"\n",
    "    s= s+info\n",
    "\n",
    "b.write(s)\n",
    "b.close()"
   ]
  },
  {
   "cell_type": "code",
   "execution_count": 2,
   "metadata": {},
   "outputs": [
    {
     "name": "stdout",
     "output_type": "stream",
     "text": [
      "name,phone\n",
      "tim,9876432167\n",
      "tom,776544\n",
      "\n"
     ]
    }
   ],
   "source": [
    "b= open('data.csv','r')\n",
    "c=b.read()\n",
    "print(c)\n",
    "b.close()"
   ]
  },
  {
   "cell_type": "code",
   "execution_count": 3,
   "metadata": {},
   "outputs": [],
   "source": [
    "b = open('data.csv','w')\n",
    "\n",
    "d=c.replace('987654','9876432167')\n",
    "\n",
    "b.write(d)\n",
    "b.close()"
   ]
  },
  {
   "cell_type": "code",
   "execution_count": 4,
   "metadata": {},
   "outputs": [
    {
     "name": "stdout",
     "output_type": "stream",
     "text": [
      "enter line no=5\n"
     ]
    },
    {
     "ename": "NameError",
     "evalue": "name 'y' is not defined",
     "output_type": "error",
     "traceback": [
      "\u001b[1;31m---------------------------------------------------------------------------\u001b[0m",
      "\u001b[1;31mNameError\u001b[0m                                 Traceback (most recent call last)",
      "\u001b[1;32m<ipython-input-4-b378a526bd78>\u001b[0m in \u001b[0;36m<module>\u001b[1;34m\u001b[0m\n\u001b[0;32m     16\u001b[0m \u001b[1;33m\u001b[0m\u001b[0m\n\u001b[0;32m     17\u001b[0m     \u001b[0mb\u001b[0m \u001b[1;33m=\u001b[0m \u001b[0mopen\u001b[0m\u001b[1;33m(\u001b[0m\u001b[1;34m'data.txt'\u001b[0m\u001b[1;33m,\u001b[0m\u001b[1;34m'w'\u001b[0m\u001b[1;33m)\u001b[0m\u001b[1;33m\u001b[0m\u001b[1;33m\u001b[0m\u001b[0m\n\u001b[1;32m---> 18\u001b[1;33m     \u001b[0mb\u001b[0m\u001b[1;33m.\u001b[0m\u001b[0mwrite\u001b[0m\u001b[1;33m(\u001b[0m\u001b[0my\u001b[0m\u001b[1;33m)\u001b[0m\u001b[1;33m\u001b[0m\u001b[1;33m\u001b[0m\u001b[0m\n\u001b[0m\u001b[0;32m     19\u001b[0m     \u001b[0mb\u001b[0m\u001b[1;33m.\u001b[0m\u001b[0mclose\u001b[0m\u001b[1;33m(\u001b[0m\u001b[1;33m)\u001b[0m\u001b[1;33m\u001b[0m\u001b[1;33m\u001b[0m\u001b[0m\n",
      "\u001b[1;31mNameError\u001b[0m: name 'y' is not defined"
     ]
    }
   ],
   "source": [
    "b = open('data.txt','r')\n",
    "n = int(input(\"enter line no=\"))\n",
    "r = b.read()\n",
    "for i in range(1,7):\n",
    "    if i != n:\n",
    "        b.readline()\n",
    "    else:\n",
    "        global y\n",
    "        z= b.readline()# extract latest value\n",
    "        y=r.replace(z,'')\n",
    "        \n",
    "        \n",
    "        \n",
    "        \n",
    "\n",
    "\n",
    "    b = open('data.txt','w')\n",
    "    b.write(y)\n",
    "    b.close()\n"
   ]
  },
  {
   "cell_type": "code",
   "execution_count": 1,
   "metadata": {},
   "outputs": [
    {
     "name": "stdout",
     "output_type": "stream",
     "text": [
      "['1.hello world', '2.hello world', '4.hello world', '5.hello world', '6.hello world', '7.hello world']\n"
     ]
    }
   ],
   "source": [
    "b = open('data.txt','r')\n",
    "e=b.read()\n",
    "file_data= e.split('\\n')\n",
    "del file_data[2]\n",
    "print(file_data)\n",
    "b.close()\n",
    "\n",
    "b= open('data1.txt','a')\n",
    "for i in file_data:\n",
    "    b.write(f\"{i}\\n\")# write can have onlu one argument so use string formatting.\n",
    "b.close()"
   ]
  },
  {
   "cell_type": "code",
   "execution_count": 5,
   "metadata": {},
   "outputs": [
    {
     "ename": "FileNotFoundError",
     "evalue": "[WinError 2] The system cannot find the file specified: 'file path'",
     "output_type": "error",
     "traceback": [
      "\u001b[1;31m---------------------------------------------------------------------------\u001b[0m",
      "\u001b[1;31mFileNotFoundError\u001b[0m                         Traceback (most recent call last)",
      "\u001b[1;32m<ipython-input-5-896ee6b161bb>\u001b[0m in \u001b[0;36m<module>\u001b[1;34m\u001b[0m\n\u001b[0;32m      1\u001b[0m \u001b[1;31m# del file\u001b[0m\u001b[1;33m\u001b[0m\u001b[1;33m\u001b[0m\u001b[1;33m\u001b[0m\u001b[0m\n\u001b[0;32m      2\u001b[0m \u001b[1;32mimport\u001b[0m \u001b[0mos\u001b[0m\u001b[1;33m\u001b[0m\u001b[1;33m\u001b[0m\u001b[0m\n\u001b[1;32m----> 3\u001b[1;33m \u001b[0mos\u001b[0m\u001b[1;33m.\u001b[0m\u001b[0mremove\u001b[0m\u001b[1;33m(\u001b[0m\u001b[1;34m'file path'\u001b[0m\u001b[1;33m)\u001b[0m\u001b[1;31m# to remove permantely\u001b[0m\u001b[1;33m\u001b[0m\u001b[1;33m\u001b[0m\u001b[0m\n\u001b[0m\u001b[0;32m      4\u001b[0m \u001b[1;33m\u001b[0m\u001b[0m\n\u001b[0;32m      5\u001b[0m \u001b[1;33m\u001b[0m\u001b[0m\n",
      "\u001b[1;31mFileNotFoundError\u001b[0m: [WinError 2] The system cannot find the file specified: 'file path'"
     ]
    }
   ],
   "source": [
    "# del file\n",
    "import os\n",
    "os.remove('file path')# to remove permantely\n",
    "\n",
    "    "
   ]
  },
  {
   "cell_type": "code",
   "execution_count": 7,
   "metadata": {},
   "outputs": [
    {
     "name": "stdout",
     "output_type": "stream",
     "text": [
      "there is no such file\n"
     ]
    }
   ],
   "source": [
    "# to check is file present or not and after verification removing the file.\n",
    "import os\n",
    "if os.path.exists('file.txt'):\n",
    "    os.remove('file.txt')\n",
    "else:\n",
    "    print('there is no such file')\n"
   ]
  },
  {
   "cell_type": "code",
   "execution_count": 8,
   "metadata": {},
   "outputs": [
    {
     "data": {
      "text/plain": [
       "'Untitled Folder\\\\data.txt'"
      ]
     },
     "execution_count": 8,
     "metadata": {},
     "output_type": "execute_result"
    }
   ],
   "source": [
    "# copying files in python\n",
    "\n",
    "import shutil\n",
    "src='data.txt'\n",
    "dst='Untitled Folder'\n",
    "shutil.copy(src,dst)"
   ]
  },
  {
   "cell_type": "code",
   "execution_count": 9,
   "metadata": {},
   "outputs": [
    {
     "data": {
      "text/plain": [
       "'untitled folder2'"
      ]
     },
     "execution_count": 9,
     "metadata": {},
     "output_type": "execute_result"
    }
   ],
   "source": [
    "#to copy complete directories\n",
    "#copy folder to another folder\n",
    "import shutil\n",
    "src='untitled folder'\n",
    "dst='untitled folder2'\n",
    "shutil.copytree(src,dst)"
   ]
  },
  {
   "cell_type": "code",
   "execution_count": null,
   "metadata": {},
   "outputs": [],
   "source": []
  }
 ],
 "metadata": {
  "kernelspec": {
   "display_name": "Python 3",
   "language": "python",
   "name": "python3"
  },
  "language_info": {
   "codemirror_mode": {
    "name": "ipython",
    "version": 3
   },
   "file_extension": ".py",
   "mimetype": "text/x-python",
   "name": "python",
   "nbconvert_exporter": "python",
   "pygments_lexer": "ipython3",
   "version": "3.8.5"
  }
 },
 "nbformat": 4,
 "nbformat_minor": 4
}
