{
 "cells": [
  {
   "cell_type": "code",
   "execution_count": 1,
   "metadata": {},
   "outputs": [
    {
     "data": {
      "text/plain": [
       "dict"
      ]
     },
     "execution_count": 1,
     "metadata": {},
     "output_type": "execute_result"
    }
   ],
   "source": [
    "a={}\n",
    "type(a)"
   ]
  },
  {
   "cell_type": "code",
   "execution_count": 4,
   "metadata": {},
   "outputs": [
    {
     "name": "stdout",
     "output_type": "stream",
     "text": [
      "<class 'dict'>\n",
      "{'A': 'apple', 'B': 'ball'}\n"
     ]
    }
   ],
   "source": [
    "#a={<key>:<value>,<key>:<value>}\n",
    "a={\"A\":\"apple\",\"B\":\"ball\"}\n",
    "b={0:\"apple\",1:\"ball\"}\n",
    "print(type(a))\n",
    "print(a)"
   ]
  },
  {
   "cell_type": "code",
   "execution_count": 5,
   "metadata": {},
   "outputs": [
    {
     "name": "stdout",
     "output_type": "stream",
     "text": [
      "{'A': 'ball'}\n"
     ]
    }
   ],
   "source": [
    "#multiple keys nots accepted\n",
    "a={\"A\":\"apple\",\"A\":\"ball\"}\n",
    "print(a)"
   ]
  },
  {
   "cell_type": "code",
   "execution_count": 7,
   "metadata": {},
   "outputs": [
    {
     "data": {
      "text/plain": [
       "'apple'"
      ]
     },
     "execution_count": 7,
     "metadata": {},
     "output_type": "execute_result"
    }
   ],
   "source": [
    "#indexing\n",
    "a={\"A\":\"apple\",\"a\":\"apple\"}\n",
    "a[\"A\"]"
   ]
  },
  {
   "cell_type": "code",
   "execution_count": 6,
   "metadata": {},
   "outputs": [
    {
     "name": "stdout",
     "output_type": "stream",
     "text": [
      "{'A': 'apple', 'a': 'apple'}\n"
     ]
    }
   ],
   "source": [
    "#multiple values accept\n",
    "a={\"A\":\"apple\",\"a\":\"apple\"}\n",
    "print(a)"
   ]
  },
  {
   "cell_type": "code",
   "execution_count": 9,
   "metadata": {},
   "outputs": [
    {
     "data": {
      "text/plain": [
       "{1: 'cpple', 0: 'ball'}"
      ]
     },
     "execution_count": 9,
     "metadata": {},
     "output_type": "execute_result"
    }
   ],
   "source": [
    "#ordered\n",
    "a={1:\"cpple\",0:\"ball\"}\n",
    "a"
   ]
  },
  {
   "cell_type": "code",
   "execution_count": 11,
   "metadata": {},
   "outputs": [
    {
     "name": "stdout",
     "output_type": "stream",
     "text": [
      "{'A': 'ant'}\n"
     ]
    }
   ],
   "source": [
    "a={\"A\":\"apple\",\"A\":\"ant\"}\n",
    "print(a)"
   ]
  },
  {
   "cell_type": "code",
   "execution_count": 13,
   "metadata": {},
   "outputs": [
    {
     "ename": "TypeError",
     "evalue": "unsupported operand type(s) for +: 'dict' and 'dict'",
     "output_type": "error",
     "traceback": [
      "\u001b[1;31m---------------------------------------------------------------------------\u001b[0m",
      "\u001b[1;31mTypeError\u001b[0m                                 Traceback (most recent call last)",
      "\u001b[1;32m<ipython-input-13-e12efb1ad3d0>\u001b[0m in \u001b[0;36m<module>\u001b[1;34m\u001b[0m\n\u001b[0;32m      2\u001b[0m \u001b[0ma\u001b[0m\u001b[1;33m=\u001b[0m\u001b[1;33m{\u001b[0m\u001b[1;34m\"A\"\u001b[0m\u001b[1;33m:\u001b[0m\u001b[1;34m\"apple\"\u001b[0m\u001b[1;33m}\u001b[0m\u001b[1;33m\u001b[0m\u001b[1;33m\u001b[0m\u001b[0m\n\u001b[0;32m      3\u001b[0m \u001b[0mb\u001b[0m\u001b[1;33m=\u001b[0m\u001b[1;33m{\u001b[0m\u001b[1;34m\"B\"\u001b[0m\u001b[1;33m:\u001b[0m\u001b[1;34m\"ball\"\u001b[0m\u001b[1;33m}\u001b[0m\u001b[1;33m\u001b[0m\u001b[1;33m\u001b[0m\u001b[0m\n\u001b[1;32m----> 4\u001b[1;33m \u001b[0mprint\u001b[0m\u001b[1;33m(\u001b[0m\u001b[0ma\u001b[0m\u001b[1;33m+\u001b[0m\u001b[0mb\u001b[0m\u001b[1;33m)\u001b[0m\u001b[1;33m\u001b[0m\u001b[1;33m\u001b[0m\u001b[0m\n\u001b[0m\u001b[0;32m      5\u001b[0m \u001b[0mprint\u001b[0m\u001b[1;33m(\u001b[0m\u001b[0ma\u001b[0m\u001b[1;33m*\u001b[0m\u001b[1;36m2\u001b[0m\u001b[1;33m)\u001b[0m\u001b[1;33m\u001b[0m\u001b[1;33m\u001b[0m\u001b[0m\n",
      "\u001b[1;31mTypeError\u001b[0m: unsupported operand type(s) for +: 'dict' and 'dict'"
     ]
    }
   ],
   "source": [
    "# + *\n",
    "a={\"A\":\"apple\"}\n",
    "b={\"B\":\"ball\"}\n",
    "print(a+b)\n",
    "print(a*2)"
   ]
  },
  {
   "cell_type": "code",
   "execution_count": 15,
   "metadata": {
    "scrolled": true
   },
   "outputs": [
    {
     "ename": "AttributeError",
     "evalue": "'dict' object has no attribute 'append'",
     "output_type": "error",
     "traceback": [
      "\u001b[1;31m---------------------------------------------------------------------------\u001b[0m",
      "\u001b[1;31mAttributeError\u001b[0m                            Traceback (most recent call last)",
      "\u001b[1;32m<ipython-input-15-660d65a53654>\u001b[0m in \u001b[0;36m<module>\u001b[1;34m\u001b[0m\n\u001b[0;32m      1\u001b[0m \u001b[0ma\u001b[0m\u001b[1;33m=\u001b[0m\u001b[1;33m{\u001b[0m\u001b[1;34m\"A\"\u001b[0m\u001b[1;33m:\u001b[0m\u001b[1;34m\"apple\"\u001b[0m\u001b[1;33m}\u001b[0m\u001b[1;33m\u001b[0m\u001b[1;33m\u001b[0m\u001b[0m\n\u001b[0;32m      2\u001b[0m \u001b[0mb\u001b[0m\u001b[1;33m=\u001b[0m\u001b[1;33m{\u001b[0m\u001b[1;34m\"B\"\u001b[0m\u001b[1;33m:\u001b[0m\u001b[1;34m\"ball\"\u001b[0m\u001b[1;33m}\u001b[0m\u001b[1;33m\u001b[0m\u001b[1;33m\u001b[0m\u001b[0m\n\u001b[1;32m----> 3\u001b[1;33m \u001b[0mc\u001b[0m\u001b[1;33m=\u001b[0m\u001b[0ma\u001b[0m\u001b[1;33m.\u001b[0m\u001b[0mappend\u001b[0m\u001b[1;33m(\u001b[0m\u001b[0mb\u001b[0m\u001b[1;33m)\u001b[0m\u001b[1;33m\u001b[0m\u001b[1;33m\u001b[0m\u001b[0m\n\u001b[0m",
      "\u001b[1;31mAttributeError\u001b[0m: 'dict' object has no attribute 'append'"
     ]
    }
   ],
   "source": [
    "a={\"A\":\"apple\"}\n",
    "b={\"B\":\"ball\"}\n",
    "c=a.append(b)"
   ]
  },
  {
   "cell_type": "code",
   "execution_count": 16,
   "metadata": {},
   "outputs": [
    {
     "name": "stdout",
     "output_type": "stream",
     "text": [
      "{'A': 'apple', 'B': 'ball'}\n"
     ]
    }
   ],
   "source": [
    "a={\"A\":\"apple\"}\n",
    "b={\"B\":\"ball\"}\n",
    "a.update(b)\n",
    "print(a)"
   ]
  },
  {
   "cell_type": "code",
   "execution_count": 17,
   "metadata": {},
   "outputs": [
    {
     "name": "stdout",
     "output_type": "stream",
     "text": [
      "{'b': 'ball'}\n"
     ]
    }
   ],
   "source": [
    "a={}\n",
    "b={\"b\":\"ball\"}\n",
    "a.update(b)\n",
    "print(a)"
   ]
  },
  {
   "cell_type": "code",
   "execution_count": 19,
   "metadata": {},
   "outputs": [
    {
     "name": "stdout",
     "output_type": "stream",
     "text": [
      "{'A': 'apple', 'B': 'ball'}\n"
     ]
    }
   ],
   "source": [
    "a={}\n",
    "a[\"A\"]=\"apple\"# to insert values in dict\n",
    "a['B']=\"ball\"\n",
    "print(a)"
   ]
  },
  {
   "cell_type": "code",
   "execution_count": 20,
   "metadata": {},
   "outputs": [
    {
     "name": "stdout",
     "output_type": "stream",
     "text": [
      "{'A': 'ball'}\n"
     ]
    }
   ],
   "source": [
    "a={}\n",
    "a[\"A\"]=\"apple\"# to insert values in dict\n",
    "a['A']=\"ball\"\n",
    "print(a)"
   ]
  },
  {
   "cell_type": "code",
   "execution_count": 21,
   "metadata": {},
   "outputs": [
    {
     "name": "stdout",
     "output_type": "stream",
     "text": [
      "enter the value of n=3\n",
      "enter the value of a=hai\n",
      "enter the value of a=bye\n",
      "enter the value of a=happ\n",
      "{0: 'hai', 1: 'bye', 2: 'happ'}\n"
     ]
    }
   ],
   "source": [
    "c={}\n",
    "n= int(input(\"enter the value of n=\"))\n",
    "for i in range(n):\n",
    "    a=input(\"enter the value of a=\")\n",
    "    c[i]=a#creating dictionary\n",
    "print(c)\n",
    "    "
   ]
  },
  {
   "cell_type": "code",
   "execution_count": 24,
   "metadata": {},
   "outputs": [
    {
     "name": "stdout",
     "output_type": "stream",
     "text": [
      "enter the value of n=2\n",
      "enter the value of a=ar\n",
      "enter the phone no=765\n",
      "enter the value of a=hye\n",
      "enter the phone no=6543\n",
      "{'ar': 765, 'hye': 6543}\n"
     ]
    }
   ],
   "source": [
    "info={}\n",
    "n= int(input(\"enter the value of n=\"))\n",
    "for i in range(n):\n",
    "    name=input(\"enter the value of a=\")\n",
    "    phone=int(input(\"enter the phone no=\"))\n",
    "    info[name]=phone#creating dictionary\n",
    "print(info)\n",
    "    "
   ]
  },
  {
   "cell_type": "code",
   "execution_count": null,
   "metadata": {},
   "outputs": [],
   "source": []
  },
  {
   "cell_type": "code",
   "execution_count": 25,
   "metadata": {},
   "outputs": [
    {
     "name": "stdout",
     "output_type": "stream",
     "text": [
      "ar\n",
      "hye\n"
     ]
    }
   ],
   "source": [
    "#reading\n",
    "for i in info:\n",
    "    print(i)\n"
   ]
  },
  {
   "cell_type": "code",
   "execution_count": 26,
   "metadata": {},
   "outputs": [
    {
     "name": "stdout",
     "output_type": "stream",
     "text": [
      "765\n",
      "6543\n"
     ]
    }
   ],
   "source": [
    "for i in info.values():\n",
    "    print(i)"
   ]
  },
  {
   "cell_type": "code",
   "execution_count": 27,
   "metadata": {},
   "outputs": [
    {
     "name": "stdout",
     "output_type": "stream",
     "text": [
      "('ar', 765)\n",
      "('hye', 6543)\n"
     ]
    }
   ],
   "source": [
    "for i in info.items():\n",
    "    print(i)"
   ]
  },
  {
   "cell_type": "code",
   "execution_count": 29,
   "metadata": {},
   "outputs": [
    {
     "name": "stdout",
     "output_type": "stream",
     "text": [
      "{'ar': 765, 'hye': 6543}\n"
     ]
    }
   ],
   "source": [
    "a={'ar': 765, 'hye': 6543}\n",
    "a['ar']:876\n",
    "print(a)"
   ]
  },
  {
   "cell_type": "code",
   "execution_count": 30,
   "metadata": {},
   "outputs": [
    {
     "name": "stdout",
     "output_type": "stream",
     "text": [
      "{'hye': 6543}\n"
     ]
    }
   ],
   "source": [
    "a={'ar': 765, 'hye': 6543}\n",
    "del a['ar']\n",
    "print(a)"
   ]
  },
  {
   "cell_type": "code",
   "execution_count": 31,
   "metadata": {},
   "outputs": [
    {
     "name": "stdout",
     "output_type": "stream",
     "text": [
      "{'hye': 6543}\n"
     ]
    }
   ],
   "source": [
    "a={'ar': 765, 'hye': 6543}\n",
    "a.pop('ar')\n",
    "print(a)"
   ]
  },
  {
   "cell_type": "code",
   "execution_count": 32,
   "metadata": {},
   "outputs": [
    {
     "name": "stdout",
     "output_type": "stream",
     "text": [
      "765\n"
     ]
    }
   ],
   "source": [
    "a={'ar': 765, 'hye': 6543}\n",
    "b=a.pop('ar')\n",
    "print(b)"
   ]
  },
  {
   "cell_type": "code",
   "execution_count": 33,
   "metadata": {},
   "outputs": [
    {
     "name": "stdout",
     "output_type": "stream",
     "text": [
      "{'ram': [876543, 987321], 'shyam': [98241, 65342]}\n",
      "<class 'dict'>\n",
      "2\n"
     ]
    }
   ],
   "source": [
    "#list insie dict\n",
    "a={'ram':[876543,987321],'shyam':[98241,65342]}\n",
    "print(a)\n",
    "print(type(a))\n",
    "print(len(a))"
   ]
  },
  {
   "cell_type": "code",
   "execution_count": 34,
   "metadata": {},
   "outputs": [
    {
     "data": {
      "text/plain": [
       "[876543, 987321]"
      ]
     },
     "execution_count": 34,
     "metadata": {},
     "output_type": "execute_result"
    }
   ],
   "source": [
    "a['ram']"
   ]
  },
  {
   "cell_type": "code",
   "execution_count": 36,
   "metadata": {},
   "outputs": [
    {
     "name": "stdout",
     "output_type": "stream",
     "text": [
      "987321\n"
     ]
    }
   ],
   "source": [
    "print (a['ram'][1])"
   ]
  },
  {
   "cell_type": "code",
   "execution_count": 38,
   "metadata": {},
   "outputs": [
    {
     "name": "stdout",
     "output_type": "stream",
     "text": [
      "enter name=ram\n",
      "enter 0 for ntc and 1 for ncell=1\n",
      "the info is= 987321\n"
     ]
    }
   ],
   "source": [
    "name= input(\"enter name=\")\n",
    "typ=int(input(\"enter 0 for ntc and 1 for ncell=\"))\n",
    "print(\"the info is=\",a[name][typ])"
   ]
  },
  {
   "cell_type": "code",
   "execution_count": 40,
   "metadata": {},
   "outputs": [
    {
     "name": "stdout",
     "output_type": "stream",
     "text": [
      "{'ram': [876543, 987321, 4364328], 'shyam': [98241, 65342]}\n"
     ]
    }
   ],
   "source": [
    "a['ram'].append(4364328)\n",
    "print(a)"
   ]
  },
  {
   "cell_type": "code",
   "execution_count": 42,
   "metadata": {},
   "outputs": [
    {
     "name": "stdout",
     "output_type": "stream",
     "text": [
      "{'ram': [876543, 4364328], 'shyam': [98241, 65342]}\n"
     ]
    }
   ],
   "source": [
    "del a['ram'][1]\n",
    "print(a)"
   ]
  },
  {
   "cell_type": "code",
   "execution_count": 43,
   "metadata": {},
   "outputs": [
    {
     "name": "stdout",
     "output_type": "stream",
     "text": [
      "enter the value of n=2\n",
      "enter the value of a=hari\n",
      "enter the phone no=9843667795\n",
      "enter the phone no=9818778508\n",
      "enter the value of a=shyam\n",
      "enter the phone no=9845371007\n",
      "enter the phone no=8717665432\n",
      "{'hari': [9843667795, 9818778508], 'shyam': [9845371007, 8717665432]}\n"
     ]
    }
   ],
   "source": [
    "info={}\n",
    "n= int(input(\"enter the value of n=\"))\n",
    "for i in range(n):\n",
    "    name=input(\"enter the value of a=\")\n",
    "    ntc_phone=int(input(\"enter the phone no=\"))\n",
    "    ncell_phone=int(input(\"enter the phone no=\"))\n",
    "    \n",
    "    info[name]=[ntc_phone,ncell_phone]#creating dictionary\n",
    "print(info)\n",
    "    "
   ]
  },
  {
   "cell_type": "code",
   "execution_count": 44,
   "metadata": {},
   "outputs": [
    {
     "name": "stdout",
     "output_type": "stream",
     "text": [
      "{'hari': [9843667795, 9818778508], 'shyam': [9845371007, 8717665432]}\n"
     ]
    }
   ],
   "source": [
    "a={'hari': [9843667795, 9818778508], 'shyam': [9845371007, 8717665432]}\n",
    "print(a)"
   ]
  },
  {
   "cell_type": "code",
   "execution_count": 46,
   "metadata": {},
   "outputs": [
    {
     "name": "stdout",
     "output_type": "stream",
     "text": [
      "enter the value of n=2\n",
      "enter the value of a=hari\n",
      "enter the phone no=987654321\n",
      "enter the phone no=981435436\n",
      "enter the value of a=shyam\n",
      "enter the phone no=9841645431\n",
      "enter the phone no=980876543\n",
      "{'hari': (987654321, 981435436), 'shyam': (9841645431, 980876543)}\n"
     ]
    }
   ],
   "source": [
    "#tuple inside dicts\n",
    "info={}\n",
    "n= int(input(\"enter the value of n=\"))\n",
    "for i in range(n):\n",
    "    name=input(\"enter the value of a=\")\n",
    "    ntc_phone=int(input(\"enter the phone no=\"))\n",
    "    ncell_phone=int(input(\"enter the phone no=\"))\n",
    "    \n",
    "   \n",
    "\n",
    "    s=tuple([ntc_phone,ncell_phone])\n",
    "    info[name]=s\n",
    "\n",
    "print(info)"
   ]
  },
  {
   "cell_type": "code",
   "execution_count": 47,
   "metadata": {},
   "outputs": [
    {
     "name": "stdout",
     "output_type": "stream",
     "text": [
      "{'ram': {'Ntc': 9843655432, 'Ncell': 9818776543}, 'shyam': {'Ntc': 9841543642, 'Ncell': 981745321}}\n"
     ]
    }
   ],
   "source": [
    "# dict inside dict\n",
    "a={\"ram\":{\"Ntc\":9843655432,\"Ncell\":9818776543},\"shyam\":{\"Ntc\":9841543642,\"Ncell\":981745321}}\n",
    "print(a)"
   ]
  },
  {
   "cell_type": "code",
   "execution_count": 48,
   "metadata": {},
   "outputs": [
    {
     "name": "stdout",
     "output_type": "stream",
     "text": [
      "{'Ntc': 9843655432, 'Ncell': 9818776543}\n"
     ]
    }
   ],
   "source": [
    "print (a['ram'])"
   ]
  },
  {
   "cell_type": "code",
   "execution_count": 49,
   "metadata": {},
   "outputs": [
    {
     "name": "stdout",
     "output_type": "stream",
     "text": [
      "9843655432\n"
     ]
    }
   ],
   "source": [
    "print(a['ram']['Ntc'])\n"
   ]
  },
  {
   "cell_type": "code",
   "execution_count": 52,
   "metadata": {},
   "outputs": [
    {
     "name": "stdout",
     "output_type": "stream",
     "text": [
      "('ram', {'Ntc': 9843655432, 'Ncell': 9818776543})\n",
      "('shyam', {'Ntc': 9841543642, 'Ncell': 981745321})\n"
     ]
    }
   ],
   "source": [
    "for i in a.items():\n",
    "    print(i)\n",
    "    "
   ]
  },
  {
   "cell_type": "code",
   "execution_count": 53,
   "metadata": {},
   "outputs": [
    {
     "name": "stdout",
     "output_type": "stream",
     "text": [
      "enter the value of n=2\n",
      "enter the value of a=hari\n",
      "enter the phone no=9843667794\n",
      "enter the phone no=9808717654\n",
      "enter the value of a=shyam\n",
      "enter the phone no=9841729804\n",
      "enter the phone no=981877104\n",
      "{'hari': {'NTC': 9843667794, 'Ncell': 9808717654}, 'shyam': {'NTC': 9841729804, 'Ncell': 981877104}}\n"
     ]
    }
   ],
   "source": [
    "info={}\n",
    "n= int(input(\"enter the value of n=\"))\n",
    "for i in range(n):\n",
    "    name=input(\"enter the value of a=\")\n",
    "    ntc_phone=int(input(\"enter the phone no=\"))\n",
    "    ncell_phone=int(input(\"enter the phone no=\"))\n",
    "    info[name]={'NTC':ntc_phone,\"Ncell\":ncell_phone}\n",
    "\n",
    "print(info)"
   ]
  },
  {
   "cell_type": "code",
   "execution_count": 1,
   "metadata": {
    "scrolled": true
   },
   "outputs": [
    {
     "name": "stdout",
     "output_type": "stream",
     "text": [
      "enter the name =hari\n",
      "enter the address=patan\n",
      "enter the value of n=3\n",
      "enter the items name=oil\n",
      "enter the items price=400\n",
      "enter the items quantity=2\n",
      "800\n",
      "enter the items name=bread\n",
      "enter the items price=70\n",
      "enter the items quantity=3\n",
      "1010\n",
      "enter the items name=fan\n",
      "enter the items price=4000\n",
      "enter the items quantity=1\n",
      "5010\n",
      "{1: {'name': 'oil', 'cost': 400, 'total_items': 2, 'total_value': 800}, 2: {'name': 'bread', 'cost': 70, 'total_items': 3, 'total_value': 210}, 3: {'name': 'fan', 'cost': 4000, 'total_items': 1, 'total_value': 4000}}\n",
      "(1, {'name': 'oil', 'cost': 400, 'total_items': 2, 'total_value': 800})\n",
      "(2, {'name': 'bread', 'cost': 70, 'total_items': 3, 'total_value': 210})\n",
      "(3, {'name': 'fan', 'cost': 4000, 'total_items': 1, 'total_value': 4000})\n",
      "{'name': 'oil', 'cost': 400, 'total_items': 2, 'total_value': 800}\n"
     ]
    }
   ],
   "source": [
    "bill={}\n",
    "total=0\n",
    "nameofcust=input(\"enter the name =\")\n",
    "address=input(\"enter the address=\")\n",
    "n=int(input(\"enter the value of n=\"))\n",
    "for i in range(1,n+1):\n",
    "    \n",
    "    items=input(\"enter the items name=\")\n",
    "    price=int(input(\"enter the items price=\"))\n",
    "    quantity=int(input(\"enter the items quantity=\"))\n",
    "    total_price= (price*quantity)\n",
    "    bill[i]={'name':items,'cost':price,'total_items':quantity,'total_value':total_price}\n",
    "    total=total+total_price\n",
    "    print(total)\n",
    "    \n",
    "print(bill)\n",
    "\n",
    "#read\n",
    "for i in bill.items():\n",
    "    print(i)\n",
    "\n",
    "#delete\n",
    "a=bill.pop(1)\n",
    "print(a)\n",
    "    \n",
    "#update\n",
    "\n",
    "bill[1]={'cost':900}\n",
    "bill.update(bill[1])\n",
    "\n",
    "    "
   ]
  },
  {
   "cell_type": "code",
   "execution_count": 11,
   "metadata": {},
   "outputs": [
    {
     "name": "stdout",
     "output_type": "stream",
     "text": [
      "enter the value of n=2\n",
      "enter the name of student=hari\n",
      "enter the address=patan\n",
      "enter the number of subjects you want=5\n",
      "enter the marks of english=65\n",
      "enter the marks of science=73\n",
      "enter the marks of nepali=98\n",
      "enter the marks of social=63\n",
      "enter the marks of math=65\n",
      "First Divison\n",
      "fail\n",
      "enter the name of student=tom\n",
      "enter the address=patana\n",
      "enter the number of subjects you want=5\n",
      "enter the marks of english=72\n",
      "enter the marks of science=34\n",
      "enter the marks of nepali=54\n",
      "enter the marks of social=90\n",
      "enter the marks of math=88\n",
      "First Divison\n",
      "fail\n",
      "{1: {'Name': 'hari', 'Address': 'patan', 'ENGLISH': 65, 'science': 73, 'nepali': 98, 'social': 63, 'math': 65, 'total_marks': 364, 'percentage': 72.8}, 2: {'Name': 'tom', 'Address': 'patana', 'ENGLISH': 72, 'science': 34, 'nepali': 54, 'social': 90, 'math': 88, 'total_marks': 338, 'percentage': 67.60000000000001}}\n"
     ]
    }
   ],
   "source": [
    "details={}\n",
    "n=int(input(\"enter the value of n=\"))\n",
    "for i in range(1,n+1):\n",
    "    name=input(\"enter the name of student=\")\n",
    "    address=input(\"enter the address=\")\n",
    "    x=int(input(\"enter the number of subjects you want=\"))\n",
    "    eng=int(input(\"enter the marks of english=\"))\n",
    "    sci=int(input(\"enter the marks of science=\"))\n",
    "    nep=int(input(\"enter the marks of nepali=\"))\n",
    "    soc=int(input(\"enter the marks of social=\"))\n",
    "    mth=int(input(\"enter the marks of math=\"))\n",
    "    marks=(eng+sci+nep+soc+mth)\n",
    "    total=500\n",
    "    per = marks/500*100\n",
    "    if(per>=80):\n",
    "            print(\"Distinction\")\n",
    "    elif (per>=60 and per<80):\n",
    "            print(\"First Divison\")\n",
    "    elif(per>=50 and per<50):\n",
    "            print(\"second division\")\n",
    "    else:\n",
    "            print(\"Third Division\")\n",
    "   \n",
    "    if(eng==40 and sci==40 and nep==40 and soc==40 and mth==40):\n",
    "        print(\"pass\")\n",
    "        \n",
    "    else:\n",
    "        print('fail')\n",
    "    details[i]={'Name':name,'Address':address,'ENGLISH':eng,'science':sci,'nepali':nep,'social':soc,'math':mth,'total_marks':marks,'percentage':per}\n",
    "print(details)"
   ]
  }
 ],
 "metadata": {
  "kernelspec": {
   "display_name": "Python 3",
   "language": "python",
   "name": "python3"
  },
  "language_info": {
   "codemirror_mode": {
    "name": "ipython",
    "version": 3
   },
   "file_extension": ".py",
   "mimetype": "text/x-python",
   "name": "python",
   "nbconvert_exporter": "python",
   "pygments_lexer": "ipython3",
   "version": "3.8.5"
  }
 },
 "nbformat": 4,
 "nbformat_minor": 4
}
