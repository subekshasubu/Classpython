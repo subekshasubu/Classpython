{
 "cells": [
  {
   "cell_type": "code",
   "execution_count": null,
   "metadata": {},
   "outputs": [],
   "source": [
    "#for\n",
    "# while"
   ]
  },
  {
   "cell_type": "code",
   "execution_count": null,
   "metadata": {},
   "outputs": [],
   "source": [
    "for(i=0; i<10; i++){\n",
    "    <operations>\n",
    "}"
   ]
  },
  {
   "cell_type": "code",
   "execution_count": null,
   "metadata": {},
   "outputs": [],
   "source": [
    "range()- creates no of sequence"
   ]
  },
  {
   "cell_type": "code",
   "execution_count": null,
   "metadata": {},
   "outputs": [],
   "source": [
    "range (5) implies as for ) i=0; i<5; i++\n",
    "range(1,5)\n",
    "range (1,10,2) implies incerement by 2"
   ]
  },
  {
   "cell_type": "code",
   "execution_count": 2,
   "metadata": {},
   "outputs": [
    {
     "name": "stdout",
     "output_type": "stream",
     "text": [
      "0 hello\n",
      "1 hello\n",
      "2 hello\n",
      "3 hello\n",
      "4 hello\n"
     ]
    }
   ],
   "source": [
    "for i in range(5):\n",
    "    print(i,\"hello\")"
   ]
  },
  {
   "cell_type": "code",
   "execution_count": 3,
   "metadata": {},
   "outputs": [
    {
     "name": "stdout",
     "output_type": "stream",
     "text": [
      "1 hello\n",
      "2 hello\n",
      "3 hello\n",
      "4 hello\n"
     ]
    }
   ],
   "source": [
    "for i in range(1,5):\n",
    "    print(i,\"hello\")"
   ]
  },
  {
   "cell_type": "code",
   "execution_count": 4,
   "metadata": {},
   "outputs": [
    {
     "name": "stdout",
     "output_type": "stream",
     "text": [
      "1 hello\n",
      "3 hello\n",
      "5 hello\n",
      "7 hello\n",
      "9 hello\n"
     ]
    }
   ],
   "source": [
    "for i in range(1,10,2):\n",
    "    print(i,\"hello\")"
   ]
  },
  {
   "cell_type": "code",
   "execution_count": 2,
   "metadata": {},
   "outputs": [
    {
     "name": "stdout",
     "output_type": "stream",
     "text": [
      "enter n= 5\n",
      "enter x=8\n",
      "enter x=6\n",
      "enter x=3\n",
      "enter x=2\n",
      "enter x=1\n",
      "the value of s is= 20\n"
     ]
    }
   ],
   "source": [
    "s=0\n",
    "n=int(input(\"enter n= \"))\n",
    "for i in range(n):\n",
    "    x= int(input(\"enter x=\"))\n",
    "    s=s+x\n",
    "print(\"the value of s is=\" ,s)"
   ]
  },
  {
   "cell_type": "code",
   "execution_count": 7,
   "metadata": {},
   "outputs": [
    {
     "name": "stdout",
     "output_type": "stream",
     "text": [
      "enter n= 5\n",
      "enter x=ram\n",
      "enter x=hari\n",
      "enter x=kancha\n",
      "enter x=kanchi\n",
      "enter x=python\n",
      "the value of s is= ramharikanchakanchipython\n"
     ]
    }
   ],
   "source": [
    "s=\"\"\n",
    "n=int(input(\"enter n= \"))\n",
    "for i in range(n):\n",
    "    x= input(\"enter x=\")\n",
    "    s=s+\"\"+x\n",
    "print(\"the value of s is=\" ,s)"
   ]
  },
  {
   "cell_type": "code",
   "execution_count": 2,
   "metadata": {},
   "outputs": [
    {
     "name": "stdout",
     "output_type": "stream",
     "text": [
      "enter n= 1\n",
      "enter name=sutr\n",
      "enter phone=876563\n",
      "the entry is= sutr876563\n",
      "\n"
     ]
    }
   ],
   "source": [
    "s=\"\"\n",
    "n=int(input(\"enter n= \"))\n",
    "for i in range(n):\n",
    "    name= input(\"enter name=\")\n",
    "    phone=input(\"enter phone=\")\n",
    "    s=s+name+\"\"+phone+\"\\n\"\n",
    "print(\"the entry is=\",s)"
   ]
  },
  {
   "cell_type": "code",
   "execution_count": 3,
   "metadata": {},
   "outputs": [
    {
     "name": "stdout",
     "output_type": "stream",
     "text": [
      "enter n= 2\n",
      "enter name=suru\n",
      "enter phone=9998886661\n",
      "enter name=yyrt\n",
      "enter phone=8886665551\n",
      "the entry is= suru9998886661\n",
      "yyrt8886665551\n",
      "\n"
     ]
    }
   ],
   "source": [
    "# validating phone no\n",
    "s=\"\"\n",
    "n=int(input(\"enter n= \"))\n",
    "for i in range(n):\n",
    "    name= input(\"enter name=\")\n",
    "    phone=input(\"enter phone=\")\n",
    "    length=len(phone)\n",
    "    if length==10:\n",
    "        s=s+name+\"\"+phone+\"\\n\"\n",
    "    else:\n",
    "        print(\"invalid no\")\n",
    "print(\"the entry is=\",s)"
   ]
  },
  {
   "cell_type": "code",
   "execution_count": 1,
   "metadata": {},
   "outputs": [
    {
     "name": "stdout",
     "output_type": "stream",
     "text": [
      "enter the value of n=4\n",
      "5748019200\n"
     ]
    }
   ],
   "source": [
    "s=12\n",
    "n= int(input(\"enter the value of n=\"))\n",
    "for i in range(1,13):\n",
    "    s= s*i\n",
    "print(s)"
   ]
  },
  {
   "cell_type": "code",
   "execution_count": 1,
   "metadata": {},
   "outputs": [
    {
     "name": "stdout",
     "output_type": "stream",
     "text": [
      "enter the value of n=4\n",
      "the value of s is= 24\n"
     ]
    }
   ],
   "source": [
    "#factorial\n",
    "s = 1\n",
    "n = int(input(\"enter the value of n=\"))\n",
    "for i in range(1,n+1):\n",
    "    s=s*i\n",
    "print(\"the value of s is=\",s)\n",
    "    "
   ]
  },
  {
   "cell_type": "code",
   "execution_count": 10,
   "metadata": {},
   "outputs": [
    {
     "name": "stdout",
     "output_type": "stream",
     "text": [
      "enter the value of n= 6\n",
      "6 * 1 = 6\n",
      "6 * 2 = 12\n",
      "6 * 3 = 18\n",
      "6 * 4 = 24\n",
      "6 * 5 = 30\n",
      "6 * 6 = 36\n",
      "6 * 7 = 42\n",
      "6 * 8 = 48\n",
      "6 * 9 = 54\n",
      "6 * 10 = 60\n"
     ]
    }
   ],
   "source": [
    "n = int(input(\"enter the value of n= \"))\n",
    "for i in range(1,11):\n",
    "    print(n,\"*\",i,\"=\",n*i) \n",
    "    "
   ]
  },
  {
   "cell_type": "code",
   "execution_count": 5,
   "metadata": {},
   "outputs": [
    {
     "name": "stdout",
     "output_type": "stream",
     "text": [
      "enter the value of n= 3\n"
     ]
    }
   ],
   "source": [
    "\n",
    "n =int(input(\"enter the value of n= \"))\n",
    "if n>1:\n",
    "    for i in range(2,n//2):\n",
    "        if(n%i==0):\n",
    "            print(\"the number is composite\")\n",
    "        else:\n",
    "            print(\"the number is prime\")\n",
    "            \n",
    "    \n",
    "\n"
   ]
  },
  {
   "cell_type": "code",
   "execution_count": 5,
   "metadata": {},
   "outputs": [
    {
     "name": "stdout",
     "output_type": "stream",
     "text": [
      "enter the value of n=10\n",
      "0\n",
      "1\n",
      "1\n",
      "2\n",
      "3\n",
      "5\n",
      "8\n",
      "13\n",
      "21\n",
      "34\n",
      "the sum of fibonacci numbers is= 89\n"
     ]
    }
   ],
   "source": [
    "a=0\n",
    "b=1\n",
    "sum=0\n",
    "n=int(input(\"enter the value of n=\"))\n",
    "for i in range(n):\n",
    "    print(a)\n",
    "    sum = a+b\n",
    "    a=b\n",
    "    b=sum\n",
    "print(\"the sum of fibonacci numbers is=\",sum)\n"
   ]
  },
  {
   "cell_type": "code",
   "execution_count": 1,
   "metadata": {
    "scrolled": true
   },
   "outputs": [
    {
     "name": "stdout",
     "output_type": "stream",
     "text": [
      "1 1\n",
      "1 2\n",
      "1 3\n",
      "1 4\n",
      "2 1\n",
      "2 2\n",
      "2 3\n",
      "2 4\n",
      "3 1\n",
      "3 2\n",
      "3 3\n",
      "3 4\n",
      "4 1\n",
      "4 2\n",
      "4 3\n",
      "4 4\n"
     ]
    }
   ],
   "source": [
    "#nested for\n",
    "for i in range(1,5):\n",
    "    for j in range(1,5):\n",
    "        print(i,j)\n",
    "        "
   ]
  },
  {
   "cell_type": "code",
   "execution_count": 2,
   "metadata": {},
   "outputs": [
    {
     "name": "stdout",
     "output_type": "stream",
     "text": [
      "1 hello\n",
      "1 hello\n",
      "1 hello\n",
      "1 hello\n",
      "2 hello\n",
      "2 hello\n",
      "2 hello\n",
      "2 hello\n",
      "3 hello\n",
      "3 hello\n",
      "3 hello\n",
      "3 hello\n",
      "4 hello\n",
      "4 hello\n",
      "4 hello\n",
      "4 hello\n"
     ]
    }
   ],
   "source": [
    "for i in range(1,5):\n",
    "    for j in range(1,5):\n",
    "        print(i,\"hello\")\n",
    "        "
   ]
  },
  {
   "cell_type": "code",
   "execution_count": 3,
   "metadata": {},
   "outputs": [
    {
     "name": "stdout",
     "output_type": "stream",
     "text": [
      "enter the value of x=1\n",
      "enter the value of x=2\n",
      "enter the value of x=3\n",
      "enter the value of x=4\n",
      "enter the value of x=5\n",
      "enter the value of x=6\n"
     ]
    }
   ],
   "source": [
    "for i in range(1,3):\n",
    "    for j in range(1,4):\n",
    "        x=int(input(\"enter the value of x=\"))"
   ]
  },
  {
   "cell_type": "code",
   "execution_count": 4,
   "metadata": {},
   "outputs": [
    {
     "name": "stdout",
     "output_type": "stream",
     "text": [
      "1 0\n",
      "2 0\n",
      "3 0\n",
      "4 0\n"
     ]
    }
   ],
   "source": [
    "for i in range(1,5):\n",
    "    for j in range(0,2):\n",
    "        if j ==1:\n",
    "            continue\n",
    "        print(i,j)"
   ]
  },
  {
   "cell_type": "code",
   "execution_count": 5,
   "metadata": {},
   "outputs": [
    {
     "name": "stdout",
     "output_type": "stream",
     "text": [
      "1 0\n",
      "1 1\n",
      "1 2\n",
      "2 0\n",
      "2 1\n",
      "2 2\n",
      "3 0\n",
      "3 1\n",
      "3 2\n"
     ]
    }
   ],
   "source": [
    "for i in range(1,5):\n",
    "    if i!=4:\n",
    "        for j in range(0,3):\n",
    "            print(i,j)\n",
    "        continue"
   ]
  },
  {
   "cell_type": "code",
   "execution_count": 6,
   "metadata": {},
   "outputs": [
    {
     "name": "stdout",
     "output_type": "stream",
     "text": [
      "4 0\n",
      "4 1\n",
      "4 2\n"
     ]
    }
   ],
   "source": [
    "for i in range(1,5):\n",
    "    if i!=4:\n",
    "        continue\n",
    "    else:\n",
    "        for j in range(0,3):\n",
    "            print(i,j)\n",
    "        "
   ]
  }
 ],
 "metadata": {
  "kernelspec": {
   "display_name": "Python 3",
   "language": "python",
   "name": "python3"
  },
  "language_info": {
   "codemirror_mode": {
    "name": "ipython",
    "version": 3
   },
   "file_extension": ".py",
   "mimetype": "text/x-python",
   "name": "python",
   "nbconvert_exporter": "python",
   "pygments_lexer": "ipython3",
   "version": "3.8.5"
  }
 },
 "nbformat": 4,
 "nbformat_minor": 4
}
