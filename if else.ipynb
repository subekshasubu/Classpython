{
 "cells": [
  {
   "cell_type": "code",
   "execution_count": null,
   "metadata": {},
   "outputs": [],
   "source": [
    "elif <conditions>:\n",
    "    <operations>"
   ]
  },
  {
   "cell_type": "markdown",
   "metadata": {},
   "source": []
  },
  {
   "cell_type": "code",
   "execution_count": 1,
   "metadata": {},
   "outputs": [
    {
     "data": {
      "text/plain": [
       "False"
      ]
     },
     "execution_count": 1,
     "metadata": {},
     "output_type": "execute_result"
    }
   ],
   "source": [
    "a=10\n",
    "b=20\n",
    "a==b"
   ]
  },
  {
   "cell_type": "code",
   "execution_count": 2,
   "metadata": {},
   "outputs": [
    {
     "name": "stdout",
     "output_type": "stream",
     "text": [
      "a is smaller\n"
     ]
    }
   ],
   "source": [
    "if a<b:\n",
    "    print(\"a is smaller\")\n",
    "elif b<a:\n",
    "    print(\"b is greater\")\n",
    "else:\n",
    "    print(\"both are equal\")"
   ]
  },
  {
   "cell_type": "code",
   "execution_count": null,
   "metadata": {},
   "outputs": [],
   "source": [
    "# and & or |"
   ]
  },
  {
   "cell_type": "code",
   "execution_count": 5,
   "metadata": {},
   "outputs": [
    {
     "name": "stdout",
     "output_type": "stream",
     "text": [
      "enter a=5\n",
      "enter b=7\n",
      "enter c=8\n",
      " c is greater\n"
     ]
    }
   ],
   "source": [
    "a=int(input(\"enter a=\"))\n",
    "b=int(input(\"enter b=\"))\n",
    "c=int(input(\"enter c=\"))\n",
    "\n",
    "if (a<b) and (c<b):\n",
    "    print(\"b is greater\")\n",
    "elif b<a and c<a:\n",
    "    print(\"a is greater\")\n",
    "elif a<c and b<c:\n",
    "    print(\" c is greater\")\n",
    "else:\n",
    "     print(\"all are equal\")"
   ]
  },
  {
   "cell_type": "code",
   "execution_count": 9,
   "metadata": {},
   "outputs": [
    {
     "name": "stdout",
     "output_type": "stream",
     "text": [
      "enter a=5\n",
      "enter b=0\n",
      "enter + - * / /\n",
      "the value of b can't be zero\n"
     ]
    }
   ],
   "source": [
    "a=int(input(\"enter a=\"))\n",
    "b=int(input(\"enter b=\"))\n",
    "o=input(\"enter + - * / \")\n",
    "if o == '+':\n",
    "    print(a+b)\n",
    "elif o=='-':\n",
    "    print (a-b)\n",
    "elif o=='*':\n",
    "    print(a*b)\n",
    "elif o=='/' and (b!=0):\n",
    "    print(a/b)\n",
    "elif b==0:\n",
    "    print(\"the value of b can't be zero\")\n",
    "else:    \n",
    "    print(\"invalid operator\")"
   ]
  },
  {
   "cell_type": "code",
   "execution_count": null,
   "metadata": {},
   "outputs": [],
   "source": [
    "if <condition>:\n",
    "    if<condition>:\n",
    "        <operation>\n",
    "    else:\n",
    "        <operation>"
   ]
  },
  {
   "cell_type": "code",
   "execution_count": 12,
   "metadata": {},
   "outputs": [
    {
     "name": "stdout",
     "output_type": "stream",
     "text": [
      "enter a=10\n",
      "enter b=2\n",
      "enter + - * / /\n",
      "5.0\n"
     ]
    }
   ],
   "source": [
    "a=int(input(\"enter a=\"))\n",
    "b=int(input(\"enter b=\"))\n",
    "o=input(\"enter + - * / \")\n",
    "if o == '+':\n",
    "    print(a+b)\n",
    "elif o=='-':\n",
    "    print (a-b)\n",
    "elif o=='*':\n",
    "    print(a*b)\n",
    "elif o=='/' :\n",
    "    if b!=0:\n",
    "        print(a/b)\n",
    "    else:\n",
    "        print(\"the value of b can't be zero\")\n",
    "else:    \n",
    "    print(\"invalid operator\")"
   ]
  },
  {
   "cell_type": "code",
   "execution_count": 13,
   "metadata": {},
   "outputs": [
    {
     "name": "stdout",
     "output_type": "stream",
     "text": [
      "enter a=50\n",
      "enter b=70\n",
      "enter + - * / /\n"
     ]
    },
    {
     "data": {
      "text/plain": [
       "0.7142857142857143"
      ]
     },
     "execution_count": 13,
     "metadata": {},
     "output_type": "execute_result"
    }
   ],
   "source": [
    "a=int(input(\"enter a=\"))\n",
    "b=int(input(\"enter b=\"))\n",
    "o=input(\"enter + - * / \")\n",
    "\n",
    "def calculate():\n",
    "   \n",
    "    if o == '+':\n",
    "        return a+b\n",
    "    elif o=='-':\n",
    "        return  a-b\n",
    "    elif o=='*':\n",
    "        return a*b\n",
    "    elif o=='/' :\n",
    "        if b!=0:\n",
    "            return a/b\n",
    "        else:\n",
    "            return \"the value of b can't be zero\"\n",
    "    else:    \n",
    "        return \"invalid operator\"\n",
    "\n",
    "calculate()\n",
    "    "
   ]
  }
 ],
 "metadata": {
  "kernelspec": {
   "display_name": "Python 3",
   "language": "python",
   "name": "python3"
  },
  "language_info": {
   "codemirror_mode": {
    "name": "ipython",
    "version": 3
   },
   "file_extension": ".py",
   "mimetype": "text/x-python",
   "name": "python",
   "nbconvert_exporter": "python",
   "pygments_lexer": "ipython3",
   "version": "3.8.5"
  }
 },
 "nbformat": 4,
 "nbformat_minor": 4
}
