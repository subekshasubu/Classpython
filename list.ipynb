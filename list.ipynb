{
 "cells": [
  {
   "cell_type": "code",
   "execution_count": 4,
   "metadata": {},
   "outputs": [
    {
     "name": "stdout",
     "output_type": "stream",
     "text": [
      "['apple', 'orange', 'litchi']\n",
      "<class 'list'>\n",
      "3\n"
     ]
    }
   ],
   "source": [
    "a=[\"apple\",\"orange\",\"litchi\"]\n",
    "print(a)\n",
    "print(type(a))\n",
    "print(len(a))"
   ]
  },
  {
   "cell_type": "code",
   "execution_count": 5,
   "metadata": {},
   "outputs": [
    {
     "data": {
      "text/plain": [
       "5"
      ]
     },
     "execution_count": 5,
     "metadata": {},
     "output_type": "execute_result"
    }
   ],
   "source": [
    "a=\"apple\"\n",
    "len(a)"
   ]
  },
  {
   "cell_type": "code",
   "execution_count": 6,
   "metadata": {},
   "outputs": [
    {
     "name": "stdout",
     "output_type": "stream",
     "text": [
      "apple\n"
     ]
    }
   ],
   "source": [
    "a=[\"apple\",\"orange\",\"litchi\"]\n",
    "print(a[0])"
   ]
  },
  {
   "cell_type": "code",
   "execution_count": 7,
   "metadata": {},
   "outputs": [
    {
     "name": "stdout",
     "output_type": "stream",
     "text": [
      "litchi\n"
     ]
    }
   ],
   "source": [
    "a=[\"apple\",\"orange\",\"litchi\"]\n",
    "print(a[-1])"
   ]
  },
  {
   "cell_type": "code",
   "execution_count": 8,
   "metadata": {},
   "outputs": [
    {
     "name": "stdout",
     "output_type": "stream",
     "text": [
      "['apple', 'orange']\n"
     ]
    }
   ],
   "source": [
    "a=[\"apple\",\"orange\",\"litchi\"]\n",
    "print(a[0:2])"
   ]
  },
  {
   "cell_type": "code",
   "execution_count": 11,
   "metadata": {},
   "outputs": [
    {
     "name": "stdout",
     "output_type": "stream",
     "text": [
      "['apple', 'litchi', 'mango']\n"
     ]
    }
   ],
   "source": [
    "a=[\"apple\",\"orange\",\"litchi\",\"kiwi\",\"mango\"]\n",
    "print(a[0:5:2])"
   ]
  },
  {
   "cell_type": "code",
   "execution_count": 12,
   "metadata": {},
   "outputs": [
    {
     "name": "stdout",
     "output_type": "stream",
     "text": [
      "['mango', 'kiwi', 'litchi', 'orange', 'apple']\n"
     ]
    }
   ],
   "source": [
    "a=[\"apple\",\"orange\",\"litchi\",\"kiwi\",\"mango\"]\n",
    "print(a[5::-1])"
   ]
  },
  {
   "cell_type": "code",
   "execution_count": 13,
   "metadata": {},
   "outputs": [
    {
     "name": "stdout",
     "output_type": "stream",
     "text": [
      "['apple', 'ball', 'cat', 'dog']\n"
     ]
    }
   ],
   "source": [
    "a =[\"apple\",\"ball\"]\n",
    "b=[\"cat\",\"dog\"]\n",
    "print(a+b)"
   ]
  },
  {
   "cell_type": "code",
   "execution_count": 14,
   "metadata": {},
   "outputs": [
    {
     "name": "stdout",
     "output_type": "stream",
     "text": [
      "['apple', 'ball', 'apple', 'ball']\n"
     ]
    }
   ],
   "source": [
    "a =[\"apple\",\"ball\"]*2\n",
    "print(a)"
   ]
  },
  {
   "cell_type": "code",
   "execution_count": 15,
   "metadata": {},
   "outputs": [
    {
     "ename": "TypeError",
     "evalue": "can only concatenate list (not \"int\") to list",
     "output_type": "error",
     "traceback": [
      "\u001b[1;31m---------------------------------------------------------------------------\u001b[0m",
      "\u001b[1;31mTypeError\u001b[0m                                 Traceback (most recent call last)",
      "\u001b[1;32m<ipython-input-15-1c2bad40638f>\u001b[0m in \u001b[0;36m<module>\u001b[1;34m\u001b[0m\n\u001b[1;32m----> 1\u001b[1;33m \u001b[0ma\u001b[0m \u001b[1;33m=\u001b[0m\u001b[1;33m[\u001b[0m\u001b[1;34m\"apple\"\u001b[0m\u001b[1;33m,\u001b[0m\u001b[1;34m\"ball\"\u001b[0m\u001b[1;33m]\u001b[0m\u001b[1;33m+\u001b[0m\u001b[1;36m2\u001b[0m\u001b[1;33m\u001b[0m\u001b[1;33m\u001b[0m\u001b[0m\n\u001b[0m\u001b[0;32m      2\u001b[0m \u001b[0mprint\u001b[0m\u001b[1;33m(\u001b[0m\u001b[0ma\u001b[0m\u001b[1;33m)\u001b[0m\u001b[1;33m\u001b[0m\u001b[1;33m\u001b[0m\u001b[0m\n",
      "\u001b[1;31mTypeError\u001b[0m: can only concatenate list (not \"int\") to list"
     ]
    }
   ],
   "source": [
    "a =[\"apple\",\"ball\"]+2#cant concate becoz 2 is int \n",
    "print(a)"
   ]
  },
  {
   "cell_type": "code",
   "execution_count": 16,
   "metadata": {},
   "outputs": [
    {
     "name": "stdout",
     "output_type": "stream",
     "text": [
      "['apple', 'ball', 2]\n"
     ]
    }
   ],
   "source": [
    "a =[\"apple\",\"ball\"]+[2]\n",
    "print(a)"
   ]
  },
  {
   "cell_type": "code",
   "execution_count": 17,
   "metadata": {},
   "outputs": [
    {
     "name": "stdout",
     "output_type": "stream",
     "text": [
      "['grapes', 'orange', 'litchi', 'kiwi', 'mango']\n"
     ]
    }
   ],
   "source": [
    "a=[\"apple\",\"orange\",\"litchi\",\"kiwi\",\"mango\"]\n",
    "a[0]=\"grapes\"\n",
    "print(a)"
   ]
  },
  {
   "cell_type": "code",
   "execution_count": 21,
   "metadata": {},
   "outputs": [
    {
     "name": "stdout",
     "output_type": "stream",
     "text": [
      "enter the value of n=5\n",
      "enter the value of x=1\n",
      "[1]\n",
      "enter the value of x=2\n",
      "[1, 2]\n",
      "enter the value of x=3\n",
      "[1, 2, 3]\n",
      "enter the value of x=4\n",
      "[1, 2, 3, 4]\n",
      "enter the value of x=5\n",
      "[1, 2, 3, 4, 5]\n",
      "[1, 2, 3, 4, 5]\n"
     ]
    }
   ],
   "source": [
    "y=[]\n",
    "n = int(input(\"enter the value of n=\"))\n",
    "for i in range(n):\n",
    "    x= int(input(\"enter the value of x=\"))\n",
    "    y.append(x)\n",
    "    print(y)\n",
    "print(y)\n",
    "    "
   ]
  },
  {
   "cell_type": "code",
   "execution_count": 22,
   "metadata": {},
   "outputs": [
    {
     "name": "stdout",
     "output_type": "stream",
     "text": [
      "[1, 2, 3, 4, 5, 70]\n"
     ]
    }
   ],
   "source": [
    "a=[1, 2, 3, 4, 5]\n",
    "a.append(70)\n",
    "print(a)"
   ]
  },
  {
   "cell_type": "code",
   "execution_count": 23,
   "metadata": {},
   "outputs": [
    {
     "name": "stdout",
     "output_type": "stream",
     "text": [
      "[1, 2, 9, 3, 4, 5]\n"
     ]
    }
   ],
   "source": [
    "a=[1, 2, 3, 4, 5]\n",
    "a.insert(2,9)\n",
    "print(a)"
   ]
  },
  {
   "cell_type": "code",
   "execution_count": 24,
   "metadata": {},
   "outputs": [
    {
     "name": "stdout",
     "output_type": "stream",
     "text": [
      "enter the value of n=5\n",
      "enter the value of x=ram\n",
      "['ram']\n",
      "enter the value of x=sita\n",
      "['ram', 'sita']\n",
      "enter the value of x=shyam\n",
      "['ram', 'sita', 'shyam']\n",
      "enter the value of x=smith\n",
      "['ram', 'sita', 'shyam', 'smith']\n",
      "enter the value of x=paras\n",
      "['ram', 'sita', 'shyam', 'smith', 'paras']\n",
      "['ram', 'sita', 'shyam', 'smith', 'paras']\n"
     ]
    }
   ],
   "source": [
    "y=[]\n",
    "n = int(input(\"enter the value of n=\"))\n",
    "for i in range(n):\n",
    "    x= input(\"enter the value of x=\")\n",
    "    y.append(x)\n",
    "    print(y)\n",
    "print(y)"
   ]
  },
  {
   "cell_type": "code",
   "execution_count": 26,
   "metadata": {},
   "outputs": [
    {
     "name": "stdout",
     "output_type": "stream",
     "text": [
      "enter the value of n=5\n",
      "enter the value of x=1\n",
      "[1]\n",
      "enter the value of x=2\n",
      "[1, 2]\n",
      "enter the value of x=3\n",
      "[1, 2, 3]\n",
      "enter the value of x=4\n",
      "[1, 2, 3, 4]\n",
      "enter the value of x=5\n",
      "[1, 2, 3, 4, 5]\n",
      "[1, 2, 3, 4, 5]\n"
     ]
    }
   ],
   "source": [
    "y=[]\n",
    "n = int(input(\"enter the value of n=\"))\n",
    "for i in range(n):\n",
    "    x= int(input(\"enter the value of x=\"))\n",
    "    y=y+[x]\n",
    "    print(y)\n",
    "print(y)"
   ]
  },
  {
   "cell_type": "code",
   "execution_count": 27,
   "metadata": {},
   "outputs": [
    {
     "data": {
      "text/plain": [
       "['apple']"
      ]
     },
     "execution_count": 27,
     "metadata": {},
     "output_type": "execute_result"
    }
   ],
   "source": [
    "y=[]\n",
    "x=[\"apple\"]\n",
    "y+x"
   ]
  },
  {
   "cell_type": "code",
   "execution_count": 29,
   "metadata": {},
   "outputs": [
    {
     "name": "stdout",
     "output_type": "stream",
     "text": [
      "enter the value of n=5\n",
      "enter the value of x=88\n",
      "enter the value of x=99\n",
      "enter the value of x=202\n",
      "enter the value of x=989\n",
      "enter the value of x=654\n",
      "the fial data is= [88, 99, 202, 989, 654]\n",
      "the maximum data is= 989\n",
      "the minimum data is= 88\n",
      "the sum data is= 2032\n",
      "the average data is= 406.4\n"
     ]
    }
   ],
   "source": [
    "#wap to determine highest and strongest value \n",
    "\n",
    "y=[]\n",
    "n = int(input(\"enter the value of n=\"))\n",
    "for i in range(n):\n",
    "    x= int(input(\"enter the value of x=\"))\n",
    "    y.append(x)\n",
    "    \n",
    "print(\"the fial data is=\",y)\n",
    "print(\"the maximum data is=\",max(y))\n",
    "print(\"the minimum data is=\",min(y))\n",
    "print(\"the sum data is=\",sum(y))\n",
    "print(\"the average data is=\",sum(y)/n)\n",
    "\n"
   ]
  },
  {
   "cell_type": "code",
   "execution_count": 31,
   "metadata": {},
   "outputs": [
    {
     "name": "stdout",
     "output_type": "stream",
     "text": [
      "the final value is= [88, 99, 202, 989, 654]\n",
      "the value by sorting= [88, 99, 202, 654, 989]\n"
     ]
    }
   ],
   "source": [
    "print(\"the final value is=\",y)\n",
    "y.sort()\n",
    "print(\"the value by sorting=\",y)"
   ]
  },
  {
   "cell_type": "code",
   "execution_count": 32,
   "metadata": {},
   "outputs": [
    {
     "name": "stdout",
     "output_type": "stream",
     "text": [
      "[989, 654, 202, 99, 88]\n"
     ]
    }
   ],
   "source": [
    "y.reverse()\n",
    "print(y)"
   ]
  },
  {
   "cell_type": "code",
   "execution_count": 33,
   "metadata": {},
   "outputs": [
    {
     "name": "stdout",
     "output_type": "stream",
     "text": [
      "['Cat', 'Dog', 'Mice', 'apple']\n"
     ]
    }
   ],
   "source": [
    "a =[\"apple\",\"Cat\",\"Mice\",\"Dog\"]\n",
    "a.sort()\n",
    "print(a)"
   ]
  },
  {
   "cell_type": "code",
   "execution_count": 34,
   "metadata": {},
   "outputs": [
    {
     "name": "stdout",
     "output_type": "stream",
     "text": [
      "['Cat', 'Dog', 'Mice', 'apple']\n",
      "['Cat', 'Dog', 'Mice', 'apple']\n",
      "['Cat', 'Dog', 'Mice', 'apple']\n",
      "['Cat', 'Dog', 'Mice', 'apple']\n"
     ]
    }
   ],
   "source": [
    "for i in a:\n",
    "    print(a)"
   ]
  },
  {
   "cell_type": "code",
   "execution_count": 37,
   "metadata": {},
   "outputs": [
    {
     "name": "stdout",
     "output_type": "stream",
     "text": [
      "0 Cat\n",
      "1 Dog\n",
      "2 Mice\n",
      "3 apple\n"
     ]
    }
   ],
   "source": [
    "#for viewing data\n",
    "for i in range(len(a)):\n",
    "    print(i,a[i])"
   ]
  },
  {
   "cell_type": "code",
   "execution_count": 42,
   "metadata": {},
   "outputs": [
    {
     "name": "stdout",
     "output_type": "stream",
     "text": [
      "yes 1\n"
     ]
    }
   ],
   "source": [
    "a=['Cat', 'Dog', 'Mice', 'apple']\n",
    "if apple in a:\n",
    "    print(\"yes\",a.count(\"apple\"))\n",
    "    "
   ]
  },
  {
   "cell_type": "code",
   "execution_count": 40,
   "metadata": {},
   "outputs": [
    {
     "name": "stdout",
     "output_type": "stream",
     "text": [
      "enter the value of search=apple\n",
      "yes 1\n"
     ]
    }
   ],
   "source": [
    "# search\n",
    "a=['Cat', 'Dog', 'Mice', 'apple']\n",
    "serach=input(\"enter the value of search=\")\n",
    "if serach in a:\n",
    "    print(\"yes\",a.count(serach))\n"
   ]
  },
  {
   "cell_type": "code",
   "execution_count": 46,
   "metadata": {},
   "outputs": [
    {
     "name": "stdout",
     "output_type": "stream",
     "text": [
      "['cat', 'dog', 'mice', 'apple']\n",
      "enter the value of search=mice\n",
      "yes 1\n"
     ]
    }
   ],
   "source": [
    "a=['Cat', 'Dog', 'Mice', 'apple']\n",
    "b=[]\n",
    "for i in a:\n",
    "    j=i.lower()\n",
    "    b.append(j)\n",
    "print(b)\n",
    "    \n",
    "serach=input(\"enter the value of search=\")\n",
    "if serach in b:\n",
    "    print(\"yes\",b.count(serach))\n"
   ]
  },
  {
   "cell_type": "code",
   "execution_count": 6,
   "metadata": {},
   "outputs": [
    {
     "name": "stdout",
     "output_type": "stream",
     "text": [
      "enter the value of search=dog\n",
      "yes\n"
     ]
    }
   ],
   "source": [
    "a=['Cat', 'Dog', 'Mice', 'apple']\n",
    "serach=input(\"enter the value of search=\").lower()\n",
    "for i in range(len(a)):\n",
    "    if serach in a[i].lower():\n",
    "        print(\"yes\")\n",
    "        break\n",
    "\n"
   ]
  },
  {
   "cell_type": "code",
   "execution_count": 7,
   "metadata": {},
   "outputs": [
    {
     "data": {
      "text/plain": [
       "3"
      ]
     },
     "execution_count": 7,
     "metadata": {},
     "output_type": "execute_result"
    }
   ],
   "source": [
    "#index\n",
    "a=['Cat', 'Dog', 'Mice', 'apple']\n",
    "a.index(\"apple\")"
   ]
  },
  {
   "cell_type": "code",
   "execution_count": 8,
   "metadata": {},
   "outputs": [
    {
     "name": "stdout",
     "output_type": "stream",
     "text": [
      "['Cat', 'Dog', 'Mice']\n"
     ]
    }
   ],
   "source": [
    "a=['Cat', 'Dog', 'Mice', 'apple']\n",
    "a.remove(\"apple\")\n",
    "print(a)"
   ]
  },
  {
   "cell_type": "code",
   "execution_count": 9,
   "metadata": {},
   "outputs": [
    {
     "name": "stdout",
     "output_type": "stream",
     "text": [
      "['Cat', 'Mice', 'apple']\n"
     ]
    }
   ],
   "source": [
    "a=['Cat', 'Dog', 'Mice', 'apple']\n",
    "del a[1]\n",
    "print(a)"
   ]
  },
  {
   "cell_type": "code",
   "execution_count": 10,
   "metadata": {},
   "outputs": [
    {
     "ename": "NameError",
     "evalue": "name 'a' is not defined",
     "output_type": "error",
     "traceback": [
      "\u001b[1;31m---------------------------------------------------------------------------\u001b[0m",
      "\u001b[1;31mNameError\u001b[0m                                 Traceback (most recent call last)",
      "\u001b[1;32m<ipython-input-10-0b76c2429614>\u001b[0m in \u001b[0;36m<module>\u001b[1;34m\u001b[0m\n\u001b[0;32m      1\u001b[0m \u001b[0ma\u001b[0m\u001b[1;33m=\u001b[0m\u001b[1;33m[\u001b[0m\u001b[1;34m'Cat'\u001b[0m\u001b[1;33m,\u001b[0m \u001b[1;34m'Dog'\u001b[0m\u001b[1;33m,\u001b[0m \u001b[1;34m'Mice'\u001b[0m\u001b[1;33m,\u001b[0m \u001b[1;34m'apple'\u001b[0m\u001b[1;33m]\u001b[0m\u001b[1;33m\u001b[0m\u001b[1;33m\u001b[0m\u001b[0m\n\u001b[0;32m      2\u001b[0m \u001b[1;32mdel\u001b[0m \u001b[0ma\u001b[0m\u001b[1;33m\u001b[0m\u001b[1;33m\u001b[0m\u001b[0m\n\u001b[1;32m----> 3\u001b[1;33m \u001b[0mprint\u001b[0m\u001b[1;33m(\u001b[0m\u001b[0ma\u001b[0m\u001b[1;33m)\u001b[0m\u001b[1;33m\u001b[0m\u001b[1;33m\u001b[0m\u001b[0m\n\u001b[0m",
      "\u001b[1;31mNameError\u001b[0m: name 'a' is not defined"
     ]
    }
   ],
   "source": [
    "a=['Cat', 'Dog', 'Mice', 'apple']\n",
    "del a\n",
    "print(a)"
   ]
  },
  {
   "cell_type": "code",
   "execution_count": 11,
   "metadata": {},
   "outputs": [
    {
     "name": "stdout",
     "output_type": "stream",
     "text": [
      "[]\n"
     ]
    }
   ],
   "source": [
    "a=['Cat', 'Dog', 'Mice', 'apple']\n",
    "a.clear()\n",
    "print(a)"
   ]
  },
  {
   "cell_type": "code",
   "execution_count": 12,
   "metadata": {},
   "outputs": [
    {
     "name": "stdout",
     "output_type": "stream",
     "text": [
      "['Cat', 'Dog', 'Mice', 'apple', 'apple']\n"
     ]
    }
   ],
   "source": [
    "a=['Cat', 'Dog', 'Mice', 'apple','apple','apple']\n",
    "a.remove('apple')\n",
    "print(a)"
   ]
  },
  {
   "cell_type": "code",
   "execution_count": 14,
   "metadata": {},
   "outputs": [
    {
     "name": "stdout",
     "output_type": "stream",
     "text": [
      "['Cat', 'Dog', 'Mice']\n"
     ]
    }
   ],
   "source": [
    "a=['Cat', 'Dog', 'Mice', 'apple','apple','apple']\n",
    "n = a.count('apple')\n",
    "for i in range(n):\n",
    "    a.remove('apple')\n",
    "print(a)"
   ]
  },
  {
   "cell_type": "code",
   "execution_count": 15,
   "metadata": {},
   "outputs": [
    {
     "name": "stdout",
     "output_type": "stream",
     "text": [
      "['Cat', 'Dog', 'Mice', 'apple']\n"
     ]
    }
   ],
   "source": [
    "a=['Cat', 'Dog', 'Mice', 'apple','apple','apple']\n",
    "n = a.count('apple')\n",
    "for i in range(n-1):\n",
    "    a.remove('apple')\n",
    "print(a)"
   ]
  },
  {
   "cell_type": "code",
   "execution_count": 16,
   "metadata": {},
   "outputs": [
    {
     "data": {
      "text/plain": [
       "['apple', 'apple']"
      ]
     },
     "execution_count": 16,
     "metadata": {},
     "output_type": "execute_result"
    }
   ],
   "source": [
    "a=['Cat', 'Dog', 'Mice', 'apple','apple','apple']\n",
    "del a[0:4]\n",
    "a\n"
   ]
  },
  {
   "cell_type": "code",
   "execution_count": 17,
   "metadata": {},
   "outputs": [
    {
     "data": {
      "text/plain": [
       "3"
      ]
     },
     "execution_count": 17,
     "metadata": {},
     "output_type": "execute_result"
    }
   ],
   "source": [
    "a=['Cat', 'Dog', 'Mice', 'apple','apple','apple']\n",
    "a.index(\"apple\")"
   ]
  },
  {
   "cell_type": "code",
   "execution_count": 23,
   "metadata": {},
   "outputs": [
    {
     "name": "stdout",
     "output_type": "stream",
     "text": [
      "enter the value for search=apple\n",
      "3\n",
      "4\n",
      "5\n",
      "['Cat', 'Dog', 'Mice', 'apple', 'apple', 'apple']\n"
     ]
    }
   ],
   "source": [
    "a=['Cat', 'Dog', 'Mice', 'apple','apple','apple']\n",
    "x= input(\"enter the value for search=\")\n",
    "for i in range(len(a)):\n",
    "    if a[i]==x:\n",
    "        print(i)\n",
    "print(a)"
   ]
  },
  {
   "cell_type": "code",
   "execution_count": 25,
   "metadata": {},
   "outputs": [
    {
     "data": {
      "text/plain": [
       "['Cat', 'Dog', 'Mice', 'apple', 'apple']"
      ]
     },
     "execution_count": 25,
     "metadata": {},
     "output_type": "execute_result"
    }
   ],
   "source": [
    "a=['Cat', 'Dog', 'Mice', 'apple','apple','apple']\n",
    "del a[4]\n",
    "a\n"
   ]
  },
  {
   "cell_type": "code",
   "execution_count": 29,
   "metadata": {},
   "outputs": [
    {
     "name": "stdout",
     "output_type": "stream",
     "text": [
      "enter the value for search=apple\n",
      "[3, 4, 5]\n"
     ]
    }
   ],
   "source": [
    "a=['Cat', 'Dog', 'Mice', 'apple','apple','apple']\n",
    "x= input(\"enter the value for search=\")\n",
    "ind =[]\n",
    "for i in range(len(a)):\n",
    "    if a[i]==x:\n",
    "        ind.append(i)\n",
    "        \n",
    "print(ind)"
   ]
  },
  {
   "cell_type": "code",
   "execution_count": 2,
   "metadata": {},
   "outputs": [
    {
     "name": "stdout",
     "output_type": "stream",
     "text": [
      "enter the no of rows=2\n",
      "enter the name=ram\n",
      "enter the phone=8765\n",
      "enter the name=sita\n",
      "enter the phone=7654\n",
      "ram .....8765\n",
      "sita .....7654\n",
      "\n"
     ]
    }
   ],
   "source": [
    "s=\"\"\n",
    "n = int(input(\"enter the no of rows=\"))\n",
    "for i in range(n):\n",
    "    name=input(\"enter the name=\")\n",
    "    phone = int(input(\"enter the phone=\"))\n",
    "    info =f\"{name} .....{phone}\\n\"\n",
    "    s=s+info\n",
    "print(s)"
   ]
  },
  {
   "cell_type": "code",
   "execution_count": 26,
   "metadata": {},
   "outputs": [
    {
     "name": "stdout",
     "output_type": "stream",
     "text": [
      "['ram .....87665', 'sita .....98775']\n"
     ]
    }
   ],
   "source": [
    "data = s.split('\\n')\n",
    "print(data[:-1])"
   ]
  },
  {
   "cell_type": "code",
   "execution_count": 6,
   "metadata": {},
   "outputs": [
    {
     "data": {
      "text/plain": [
       "'sita .....7654'"
      ]
     },
     "execution_count": 6,
     "metadata": {},
     "output_type": "execute_result"
    }
   ],
   "source": [
    "data[1]"
   ]
  },
  {
   "cell_type": "code",
   "execution_count": 8,
   "metadata": {},
   "outputs": [
    {
     "data": {
      "text/plain": [
       "['ram ', '.8765']"
      ]
     },
     "execution_count": 8,
     "metadata": {},
     "output_type": "execute_result"
    }
   ],
   "source": [
    "data[0].split(\".....\")"
   ]
  },
  {
   "cell_type": "code",
   "execution_count": 19,
   "metadata": {},
   "outputs": [
    {
     "name": "stdout",
     "output_type": "stream",
     "text": [
      "['ram ', '.8765']\n",
      "['sita ', '.7654']\n",
      "['']\n"
     ]
    }
   ],
   "source": [
    "\n",
    "\n",
    "for i in range(len(data)):\n",
    "    final=data[i].split('....')\n",
    "    print(final)"
   ]
  },
  {
   "cell_type": "code",
   "execution_count": 22,
   "metadata": {},
   "outputs": [
    {
     "name": "stdout",
     "output_type": "stream",
     "text": [
      "enter the no of rows=2\n",
      "enter the name=ram\n",
      "enter the phone=87665\n",
      "enter the name=sita\n",
      "enter the phone=98775\n",
      "ram .....87665\n",
      "sita .....98775\n",
      "\n",
      "[['ram ', '.87665'], ['sita ', '.98775']]\n"
     ]
    }
   ],
   "source": [
    "s=\"\"\n",
    "n = int(input(\"enter the no of rows=\"))\n",
    "for i in range(n):\n",
    "    name=input(\"enter the name=\")\n",
    "    phone = int(input(\"enter the phone=\"))\n",
    "    info =f\"{name} .....{phone}\\n\"\n",
    "    s=s+info\n",
    "print(s)\n",
    "z=[]\n",
    "\n",
    "data = s.split('\\n')\n",
    "final_data=data[:-1]\n",
    "\n",
    "for i in range(len(final_data)):\n",
    "    final=final_data[i].split('....')\n",
    "    z.append(final)\n",
    "print(z)"
   ]
  },
  {
   "cell_type": "code",
   "execution_count": 4,
   "metadata": {},
   "outputs": [
    {
     "data": {
      "text/plain": [
       "['apple ball']"
      ]
     },
     "execution_count": 4,
     "metadata": {},
     "output_type": "execute_result"
    }
   ],
   "source": [
    "a =\"apple ball\"\n",
    "a.split('.')"
   ]
  },
  {
   "cell_type": "code",
   "execution_count": 1,
   "metadata": {},
   "outputs": [
    {
     "name": "stdout",
     "output_type": "stream",
     "text": [
      "[[], [], [], []]\n",
      "<class 'list'>\n",
      "4\n"
     ]
    }
   ],
   "source": [
    "#list inside list\n",
    "a= [[],[],[],[]]\n",
    "print(a)\n",
    "print(type(a))\n",
    "print(len(a))"
   ]
  },
  {
   "cell_type": "code",
   "execution_count": 4,
   "metadata": {},
   "outputs": [
    {
     "name": "stdout",
     "output_type": "stream",
     "text": [
      "[1, 2, 3]\n",
      "3\n"
     ]
    }
   ],
   "source": [
    "a =[[1,2,3],[4,5,6],[7,8,9]]\n",
    "print(a[0])\n",
    "print(a[0][2])"
   ]
  },
  {
   "cell_type": "code",
   "execution_count": 6,
   "metadata": {},
   "outputs": [
    {
     "name": "stdout",
     "output_type": "stream",
     "text": [
      "ener the value of rows n=2\n",
      "enter the name=ram\n",
      "enter the phone=9876\n",
      "enter the name=shyam\n",
      "enter the phone=8765\n",
      "[[0, 'ram', 9876], [1, 'shyam', 8765]]\n"
     ]
    }
   ],
   "source": [
    "# create list inside list\n",
    "z=[]\n",
    "n= int(input(\"ener the value of rows n=\"))\n",
    "for i in range(n):\n",
    "    name=input(\"enter the name=\")\n",
    "    phone=int(input(\"enter the phone=\"))\n",
    "    info=[i,name,phone]\n",
    "    z.append(info)\n",
    "print(z)\n",
    "    \n"
   ]
  },
  {
   "cell_type": "code",
   "execution_count": 8,
   "metadata": {},
   "outputs": [
    {
     "name": "stdout",
     "output_type": "stream",
     "text": [
      "enter the number=1\n",
      "the list is= [1, 'shyam', 8765]\n"
     ]
    }
   ],
   "source": [
    "# displaying the list inside list\n",
    "sn =int(input(\"enter the number=\"))\n",
    "print(\"the list is=\",z[sn])"
   ]
  },
  {
   "cell_type": "code",
   "execution_count": 9,
   "metadata": {},
   "outputs": [
    {
     "data": {
      "text/plain": [
       "[[1, 2, 3], [4, 5, 6], [7, 8, 9]]"
      ]
     },
     "execution_count": 9,
     "metadata": {},
     "output_type": "execute_result"
    }
   ],
   "source": [
    "# multiple value\n",
    "a =[[1,2,3],[4,5,6],[7,8,9]]\n",
    "a\n",
    "\n"
   ]
  },
  {
   "cell_type": "code",
   "execution_count": 10,
   "metadata": {},
   "outputs": [
    {
     "data": {
      "text/plain": [
       "['ram', 'shyam']"
      ]
     },
     "execution_count": 10,
     "metadata": {},
     "output_type": "execute_result"
    }
   ],
   "source": [
    "# mutable data type\n",
    "a =[[\"ram\",\"shyam\"],[\"ball\"],[7,8,9]]\n",
    "a[0]"
   ]
  },
  {
   "cell_type": "code",
   "execution_count": 14,
   "metadata": {},
   "outputs": [
    {
     "name": "stdout",
     "output_type": "stream",
     "text": [
      "[['Ram', 'Shyam'], ['ball'], [7, 8, 9]]\n"
     ]
    }
   ],
   "source": [
    "a =[[\"ram\",\"shyam\"],[\"ball\"],[7,8,9]]\n",
    "a[0] = [\"Ram\",\"Shyam\"]\n",
    "print(a)"
   ]
  },
  {
   "cell_type": "code",
   "execution_count": 15,
   "metadata": {},
   "outputs": [
    {
     "name": "stdout",
     "output_type": "stream",
     "text": [
      "[['ram', 'hari'], ['ball'], [7, 8, 9]]\n"
     ]
    }
   ],
   "source": [
    "a =[[\"ram\",\"shyam\"],[\"ball\"],[7,8,9]]\n",
    "a[0][1]=\"hari\"\n",
    "print(a)"
   ]
  },
  {
   "cell_type": "code",
   "execution_count": 16,
   "metadata": {},
   "outputs": [
    {
     "data": {
      "text/plain": [
       "['apple', 'ball', 'cat', 'dog']"
      ]
     },
     "execution_count": 16,
     "metadata": {},
     "output_type": "execute_result"
    }
   ],
   "source": [
    "# ordered\n",
    "a =[\"apple\",\"ball\"]\n",
    "b=[\"cat\",\"dog\"]\n",
    "a+b"
   ]
  },
  {
   "cell_type": "code",
   "execution_count": 18,
   "metadata": {},
   "outputs": [
    {
     "data": {
      "text/plain": [
       "[['cat', 'dog'], ['apple', 'ball']]"
      ]
     },
     "execution_count": 18,
     "metadata": {},
     "output_type": "execute_result"
    }
   ],
   "source": [
    "a =[[\"apple\",\"ball\"]]\n",
    "b=[[\"cat\",\"dog\"]]\n",
    "b+a"
   ]
  },
  {
   "cell_type": "code",
   "execution_count": 19,
   "metadata": {},
   "outputs": [
    {
     "name": "stdout",
     "output_type": "stream",
     "text": [
      "ener the value of rows n=2\n",
      "enter the name=ram\n",
      "enter the phone=876\n",
      "enter the name=shya\n",
      "enter the phone=9876\n",
      "[[0, 'ram', 876], [1, 'shya', 9876]]\n"
     ]
    }
   ],
   "source": [
    "# creae list inside list without appending\n",
    "z=[]\n",
    "n= int(input(\"ener the value of rows n=\"))\n",
    "for i in range(n):\n",
    "    name=input(\"enter the name=\")\n",
    "    phone=int(input(\"enter the phone=\"))\n",
    "    info=[[i,name,phone]]\n",
    "    z = z+info\n",
    "print(z)\n",
    "    "
   ]
  },
  {
   "cell_type": "code",
   "execution_count": 27,
   "metadata": {},
   "outputs": [
    {
     "name": "stdout",
     "output_type": "stream",
     "text": [
      "enter the name to search=ram\n",
      "[0, 'ram', 9876]\n"
     ]
    }
   ],
   "source": [
    "# z=[]\n",
    "# n= int(input(\"ener the value of rows n=\"))\n",
    "# for i in range(n):\n",
    "#     name=input(\"enter the name=\")\n",
    "#     phone=int(input(\"enter the phone=\"))\n",
    "#     info=[i,name,phone]\n",
    "#     z.append(info)\n",
    "# print(z)\n",
    "\n",
    "\n",
    " # search by using name\n",
    "\n",
    "name = input(\"enter the name to search=\").lower()\n",
    "    \n",
    "for j in z:\n",
    "    if name in j[1].lower():\n",
    "        print(j)\n",
    "\n",
    "\n",
    "\n",
    "    "
   ]
  },
  {
   "cell_type": "code",
   "execution_count": 30,
   "metadata": {},
   "outputs": [
    {
     "name": "stdout",
     "output_type": "stream",
     "text": [
      "enter the name to search=ram\n",
      "[[1, 'shya', 8765]]\n"
     ]
    }
   ],
   "source": [
    "# for deleting we need to search first then del\n",
    "name = input(\"enter the name to search=\").lower()\n",
    "    \n",
    "for j in z:\n",
    "    if name in j[1].lower():\n",
    "        z.remove(j)\n",
    "print(z)\n",
    "\n"
   ]
  },
  {
   "cell_type": "code",
   "execution_count": 35,
   "metadata": {},
   "outputs": [
    {
     "name": "stdout",
     "output_type": "stream",
     "text": [
      "enter the name to search=ram\n",
      "[[0, 'Ram prasad', 876], [1, 'shya', 9876]]\n"
     ]
    }
   ],
   "source": [
    "z=[[0, 'ram', 876], [1, 'shya', 9876]]\n",
    "name = input(\"enter the name to search=\").lower()\n",
    "    \n",
    "for j in z:\n",
    "    if name in j[1].lower():\n",
    "        j[1]=\"Ram prasad\"\n",
    "print(z)\n"
   ]
  },
  {
   "cell_type": "code",
   "execution_count": 36,
   "metadata": {},
   "outputs": [
    {
     "name": "stdout",
     "output_type": "stream",
     "text": [
      "enter the name to search=ram\n",
      "enter the new name=katrin\n",
      "[[0, 'katrin', 876], [1, 'shya', 9876]]\n"
     ]
    }
   ],
   "source": [
    "z=[[0, 'ram', 876], [1, 'shya', 9876]]\n",
    "name = input(\"enter the name to search=\").lower()\n",
    "    \n",
    "for j in z:\n",
    "    if name in j[1].lower():\n",
    "        j[1]=input(\"enter the new name=\")\n",
    "print(z)\n"
   ]
  },
  {
   "cell_type": "code",
   "execution_count": 1,
   "metadata": {},
   "outputs": [
    {
     "name": "stdout",
     "output_type": "stream",
     "text": [
      "enter the number of rows=2\n",
      "enter the name of student=eric\n",
      "enter the marks in english=45\n",
      "enter the marks in nepali=56\n",
      "enter the marks in science=76\n",
      "enter the marks in math=45\n",
      "enter the name of student=tim\n",
      "enter the marks in english=77\n",
      "enter the marks in nepali=86\n",
      "enter the marks in science=94\n",
      "enter the marks in math=54\n",
      "[[0, 'eric', 45, 56, 76, 45], [1, 'tim', 77, 86, 94, 54]]\n",
      "enter the name to serach=eric\n",
      "[0, 'eric', 45, 56, 76, 45]\n",
      "enter the name to serach=tim\n",
      "[[0, 'eric', 45, 56, 76, 45]]\n",
      "enter the marks in english=54\n"
     ]
    },
    {
     "ename": "TypeError",
     "evalue": "'int' object is not subscriptable",
     "output_type": "error",
     "traceback": [
      "\u001b[1;31m---------------------------------------------------------------------------\u001b[0m",
      "\u001b[1;31mTypeError\u001b[0m                                 Traceback (most recent call last)",
      "\u001b[1;32m<ipython-input-1-e995b1a8f5f1>\u001b[0m in \u001b[0;36m<module>\u001b[1;34m\u001b[0m\n\u001b[0;32m     27\u001b[0m \u001b[0meng\u001b[0m \u001b[1;33m=\u001b[0m \u001b[0mint\u001b[0m\u001b[1;33m(\u001b[0m\u001b[0minput\u001b[0m\u001b[1;33m(\u001b[0m\u001b[1;34m\"enter the marks in english=\"\u001b[0m\u001b[1;33m)\u001b[0m\u001b[1;33m)\u001b[0m\u001b[1;33m\u001b[0m\u001b[1;33m\u001b[0m\u001b[0m\n\u001b[0;32m     28\u001b[0m \u001b[1;32mfor\u001b[0m \u001b[0mj\u001b[0m \u001b[1;32min\u001b[0m \u001b[0mz\u001b[0m\u001b[1;33m:\u001b[0m\u001b[1;33m\u001b[0m\u001b[1;33m\u001b[0m\u001b[0m\n\u001b[1;32m---> 29\u001b[1;33m     \u001b[1;32mif\u001b[0m \u001b[0meng\u001b[0m \u001b[1;32min\u001b[0m \u001b[0mj\u001b[0m\u001b[1;33m[\u001b[0m\u001b[1;36m0\u001b[0m\u001b[1;33m]\u001b[0m\u001b[1;33m[\u001b[0m\u001b[1;36m2\u001b[0m\u001b[1;33m]\u001b[0m\u001b[1;33m:\u001b[0m\u001b[1;33m\u001b[0m\u001b[1;33m\u001b[0m\u001b[0m\n\u001b[0m\u001b[0;32m     30\u001b[0m         \u001b[0mj\u001b[0m\u001b[1;33m[\u001b[0m\u001b[1;36m1\u001b[0m\u001b[1;33m]\u001b[0m\u001b[1;33m[\u001b[0m\u001b[1;36m2\u001b[0m\u001b[1;33m]\u001b[0m\u001b[1;33m=\u001b[0m\u001b[0mint\u001b[0m\u001b[1;33m(\u001b[0m\u001b[0minput\u001b[0m\u001b[1;33m(\u001b[0m\u001b[1;34m\"enter the marks in english\"\u001b[0m\u001b[1;33m)\u001b[0m\u001b[1;33m)\u001b[0m\u001b[1;33m\u001b[0m\u001b[1;33m\u001b[0m\u001b[0m\n\u001b[0;32m     31\u001b[0m         \u001b[0mprint\u001b[0m\u001b[1;33m(\u001b[0m\u001b[0mz\u001b[0m\u001b[1;33m)\u001b[0m\u001b[1;33m\u001b[0m\u001b[1;33m\u001b[0m\u001b[0m\n",
      "\u001b[1;31mTypeError\u001b[0m: 'int' object is not subscriptable"
     ]
    }
   ],
   "source": [
    "# Wap to make a result manangement syatem and search it by using roll num, remove the data , and update the values.\n",
    "z=[]\n",
    "n = int(input(\"enter the number of rows=\"))\n",
    "for i in range (n):\n",
    "    name=input(\"enter the name of student=\")\n",
    "    eng = int(input(\"enter the marks in english=\"))\n",
    "    nepali = int(input(\"enter the marks in nepali=\"))\n",
    "    science=int(input(\"enter the marks in science=\"))\n",
    "    mah= int(input(\"enter the marks in math=\"))\n",
    "    total = sum([eng, nepali,science,mah])\n",
    "    per = total/5\n",
    "    result=[i,name,eng,nepali,science,mah]\n",
    "    z.append(result)\n",
    "    \n",
    "print(z)\n",
    "\n",
    "name = input(\"enter the name to serach=\").lower()\n",
    "for j in z:\n",
    "    if name in j[1].lower():\n",
    "        print(j)\n",
    "\n",
    "name = input(\"enter the name to serach=\").lower()\n",
    "for j in z:\n",
    "    if name in j[1].lower():\n",
    "        z.remove(j)\n",
    "        print(z)\n",
    "eng = int(input(\"enter the marks in english=\"))\n",
    "for j in z:\n",
    "    if eng in j[0][2]:\n",
    "        j[1][2]=int(input(\"enter the marks in english\"))\n",
    "        print(z)\n"
   ]
  }
 ],
 "metadata": {
  "kernelspec": {
   "display_name": "Python 3",
   "language": "python",
   "name": "python3"
  },
  "language_info": {
   "codemirror_mode": {
    "name": "ipython",
    "version": 3
   },
   "file_extension": ".py",
   "mimetype": "text/x-python",
   "name": "python",
   "nbconvert_exporter": "python",
   "pygments_lexer": "ipython3",
   "version": "3.8.5"
  }
 },
 "nbformat": 4,
 "nbformat_minor": 4
}
