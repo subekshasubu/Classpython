{
 "cells": [
  {
   "cell_type": "code",
   "execution_count": 1,
   "metadata": {},
   "outputs": [
    {
     "name": "stdout",
     "output_type": "stream",
     "text": [
      "2021-02-10 15:33:49.219190\n",
      "hello\n",
      "hello\n",
      "hello\n",
      "hello\n",
      "hello\n",
      "2021-02-10 15:33:49.220187\n"
     ]
    }
   ],
   "source": [
    "import datetime as d\n",
    "a=d.datetime.now()\n",
    "print(a)\n",
    "for i in range(5):\n",
    "    print(\"hello\")\n",
    "b=d.datetime.now()\n",
    "print(b)"
   ]
  },
  {
   "cell_type": "code",
   "execution_count": 2,
   "metadata": {},
   "outputs": [
    {
     "name": "stdout",
     "output_type": "stream",
     "text": [
      "2021\n"
     ]
    }
   ],
   "source": [
    "print(a.year)"
   ]
  },
  {
   "cell_type": "code",
   "execution_count": 3,
   "metadata": {},
   "outputs": [
    {
     "name": "stdout",
     "output_type": "stream",
     "text": [
      "2\n"
     ]
    }
   ],
   "source": [
    "print(a.month)"
   ]
  },
  {
   "cell_type": "code",
   "execution_count": 4,
   "metadata": {},
   "outputs": [
    {
     "name": "stdout",
     "output_type": "stream",
     "text": [
      "Wednesday\n"
     ]
    }
   ],
   "source": [
    "print(a.strftime(\"%A\"))"
   ]
  },
  {
   "cell_type": "code",
   "execution_count": 5,
   "metadata": {},
   "outputs": [
    {
     "name": "stdout",
     "output_type": "stream",
     "text": [
      "February\n"
     ]
    }
   ],
   "source": [
    "print(a.strftime(\"%B\"))"
   ]
  },
  {
   "cell_type": "code",
   "execution_count": 6,
   "metadata": {},
   "outputs": [
    {
     "name": "stdout",
     "output_type": "stream",
     "text": [
      "20\n"
     ]
    }
   ],
   "source": [
    "print(a.strftime(\"%C\"))"
   ]
  },
  {
   "cell_type": "code",
   "execution_count": 7,
   "metadata": {},
   "outputs": [
    {
     "name": "stdout",
     "output_type": "stream",
     "text": [
      "02/10/21\n"
     ]
    }
   ],
   "source": [
    "print(a.strftime(\"%D\"))"
   ]
  },
  {
   "cell_type": "code",
   "execution_count": 8,
   "metadata": {},
   "outputs": [
    {
     "name": "stdout",
     "output_type": "stream",
     "text": [
      "15\n"
     ]
    }
   ],
   "source": [
    "print(a.strftime(\"%H\"))"
   ]
  },
  {
   "cell_type": "code",
   "execution_count": 9,
   "metadata": {},
   "outputs": [
    {
     "data": {
      "text/plain": [
       "['C:\\\\Users\\\\dell',\n",
       " 'C:\\\\Users\\\\dell\\\\anaconda3\\\\python38.zip',\n",
       " 'C:\\\\Users\\\\dell\\\\anaconda3\\\\DLLs',\n",
       " 'C:\\\\Users\\\\dell\\\\anaconda3\\\\lib',\n",
       " 'C:\\\\Users\\\\dell\\\\anaconda3',\n",
       " '',\n",
       " 'C:\\\\Users\\\\dell\\\\anaconda3\\\\lib\\\\site-packages',\n",
       " 'C:\\\\Users\\\\dell\\\\anaconda3\\\\lib\\\\site-packages\\\\win32',\n",
       " 'C:\\\\Users\\\\dell\\\\anaconda3\\\\lib\\\\site-packages\\\\win32\\\\lib',\n",
       " 'C:\\\\Users\\\\dell\\\\anaconda3\\\\lib\\\\site-packages\\\\Pythonwin',\n",
       " 'C:\\\\Users\\\\dell\\\\anaconda3\\\\lib\\\\site-packages\\\\IPython\\\\extensions',\n",
       " 'C:\\\\Users\\\\dell\\\\.ipython']"
      ]
     },
     "execution_count": 9,
     "metadata": {},
     "output_type": "execute_result"
    }
   ],
   "source": [
    "import sys\n",
    "sys.path"
   ]
  },
  {
   "cell_type": "code",
   "execution_count": 11,
   "metadata": {},
   "outputs": [
    {
     "data": {
      "text/plain": [
       "'3.8.5 (default, Sep  3 2020, 21:29:08) [MSC v.1916 64 bit (AMD64)]'"
      ]
     },
     "execution_count": 11,
     "metadata": {},
     "output_type": "execute_result"
    }
   ],
   "source": [
    "sys.version"
   ]
  },
  {
   "cell_type": "code",
   "execution_count": 13,
   "metadata": {},
   "outputs": [
    {
     "data": {
      "text/plain": [
       "['.conda',\n",
       " '.condarc',\n",
       " '.ipynb_checkpoints',\n",
       " '.ipython',\n",
       " '.jupyter',\n",
       " '.matplotlib',\n",
       " '3D Objects',\n",
       " 'anaconda3',\n",
       " 'AppData',\n",
       " 'Apple',\n",
       " 'Application Data',\n",
       " 'array.ipynb',\n",
       " 'assignment tuple inside tuple into list inside list.ipynb',\n",
       " 'class230pm.txt',\n",
       " 'Contacts',\n",
       " 'Cookies',\n",
       " 'CSV.ipynb',\n",
       " 'data.csv',\n",
       " 'data.txt',\n",
       " 'data1.txt',\n",
       " 'debug.log',\n",
       " 'Desktop',\n",
       " 'details.csv',\n",
       " 'dictionary.ipynb',\n",
       " 'Documents',\n",
       " 'Downloads',\n",
       " 'exception handling.ipynb',\n",
       " 'Favorites',\n",
       " 'file handling.ipynb',\n",
       " 'functions.ipynb',\n",
       " 'if else.ipynb',\n",
       " 'info.csv',\n",
       " 'IntelGraphicsProfiles',\n",
       " 'lambda function.ipynb',\n",
       " 'Links',\n",
       " 'list.csv',\n",
       " 'list.ipynb',\n",
       " 'Local Settings',\n",
       " 'Loop.ipynb',\n",
       " 'matplotlib.ipynb',\n",
       " 'MicrosoftEdgeBackups',\n",
       " 'Music',\n",
       " 'My Documents',\n",
       " 'NetHood',\n",
       " 'new_data.csv',\n",
       " 'NTUSER.DAT',\n",
       " 'ntuser.dat.LOG1',\n",
       " 'ntuser.dat.LOG2',\n",
       " 'NTUSER.DAT{53b39e88-18c4-11ea-a811-000d3aa4692b}.TM.blf',\n",
       " 'NTUSER.DAT{53b39e88-18c4-11ea-a811-000d3aa4692b}.TMContainer00000000000000000001.regtrans-ms',\n",
       " 'NTUSER.DAT{53b39e88-18c4-11ea-a811-000d3aa4692b}.TMContainer00000000000000000002.regtrans-ms',\n",
       " 'ntuser.ini',\n",
       " 'Object Oriented programming.ipynb',\n",
       " 'OneDrive',\n",
       " 'Pictures',\n",
       " 'practice assignment.ipynb',\n",
       " 'PrintHood',\n",
       " 'Recent',\n",
       " 'Saved Games',\n",
       " 'school.csv',\n",
       " 'Searches',\n",
       " 'SendTo',\n",
       " 'set.ipynb',\n",
       " 'Start Menu',\n",
       " 'stocks.csv',\n",
       " 'Templates',\n",
       " 'tuple.ipynb',\n",
       " 'untitled',\n",
       " 'Untitled Folder',\n",
       " 'untitled folder2',\n",
       " 'Untitled.ipynb',\n",
       " 'untitled.txt',\n",
       " 'Untitled1.ipynb',\n",
       " 'Untitled2.ipynb',\n",
       " 'Videos',\n",
       " 'web scraping using bs4.ipynb',\n",
       " 'while loop.ipynb']"
      ]
     },
     "execution_count": 13,
     "metadata": {},
     "output_type": "execute_result"
    }
   ],
   "source": [
    "import os\n",
    "os.listdir()"
   ]
  },
  {
   "cell_type": "code",
   "execution_count": 17,
   "metadata": {},
   "outputs": [
    {
     "name": "stdout",
     "output_type": "stream",
     "text": [
      "{1: 2, 2: 4, 3: 6, 4: 8, 5: 10}\n"
     ]
    }
   ],
   "source": [
    "#dictionary comphrension\n",
    "sqr={}\n",
    "for i in range(1,6):\n",
    "    sqr[i] = i*2\n",
    "print(sqr)"
   ]
  },
  {
   "cell_type": "code",
   "execution_count": 20,
   "metadata": {},
   "outputs": [
    {
     "name": "stdout",
     "output_type": "stream",
     "text": [
      "enter the multiple value of x:6 7 8\n",
      "number of value in list: [6, 7, 8]\n"
     ]
    }
   ],
   "source": [
    "#list as comphrension\n",
    "x=[int(x) for x in input(\"enter the multiple value of x:\").split()]\n",
    "print(\"number of value in list:\",x)"
   ]
  },
  {
   "cell_type": "code",
   "execution_count": 22,
   "metadata": {},
   "outputs": [
    {
     "name": "stdout",
     "output_type": "stream",
     "text": [
      "enter the multiple value of x:1 2 5 7 3\n",
      "number of value in list: {1, 2, 3, 5, 7}\n"
     ]
    }
   ],
   "source": [
    "#set comphrension\n",
    "x={int(x) for x in input(\"enter the multiple value of x:\").split()}\n",
    "print(\"number of value in list:\",x)"
   ]
  },
  {
   "cell_type": "code",
   "execution_count": 23,
   "metadata": {},
   "outputs": [
    {
     "name": "stdout",
     "output_type": "stream",
     "text": [
      "enter the multiple value of x:sam tom banton yuck\n",
      "number of value in list: ['sam', 'tom', 'banton', 'yuck']\n"
     ]
    }
   ],
   "source": [
    "x=[x for x in input(\"enter the multiple value of x:\").split()]\n",
    "print(\"number of value in list:\",x)"
   ]
  },
  {
   "cell_type": "code",
   "execution_count": 24,
   "metadata": {},
   "outputs": [
    {
     "name": "stdout",
     "output_type": "stream",
     "text": [
      "<re.Match object; span=(17, 23), match='python'>\n"
     ]
    }
   ],
   "source": [
    "#regular expressions\n",
    "import re\n",
    "a=\"hello world i am python learner\"\n",
    "x=re.search(\"python\",a)\n",
    "print(x)"
   ]
  },
  {
   "cell_type": "code",
   "execution_count": 25,
   "metadata": {},
   "outputs": [
    {
     "data": {
      "text/plain": [
       "'python'"
      ]
     },
     "execution_count": 25,
     "metadata": {},
     "output_type": "execute_result"
    }
   ],
   "source": [
    "a[17:23]"
   ]
  },
  {
   "cell_type": "code",
   "execution_count": null,
   "metadata": {},
   "outputs": [],
   "source": []
  }
 ],
 "metadata": {
  "kernelspec": {
   "display_name": "Python 3",
   "language": "python",
   "name": "python3"
  },
  "language_info": {
   "codemirror_mode": {
    "name": "ipython",
    "version": 3
   },
   "file_extension": ".py",
   "mimetype": "text/x-python",
   "name": "python",
   "nbconvert_exporter": "python",
   "pygments_lexer": "ipython3",
   "version": "3.8.5"
  }
 },
 "nbformat": 4,
 "nbformat_minor": 4
}
