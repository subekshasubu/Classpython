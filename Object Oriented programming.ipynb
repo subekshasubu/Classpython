{
 "cells": [
  {
   "cell_type": "code",
   "execution_count": 1,
   "metadata": {},
   "outputs": [
    {
     "ename": "SyntaxError",
     "evalue": "invalid syntax (<ipython-input-1-81358cf5a0a5>, line 2)",
     "output_type": "error",
     "traceback": [
      "\u001b[1;36m  File \u001b[1;32m\"<ipython-input-1-81358cf5a0a5>\"\u001b[1;36m, line \u001b[1;32m2\u001b[0m\n\u001b[1;33m    def hello(self) #method\u001b[0m\n\u001b[1;37m                    ^\u001b[0m\n\u001b[1;31mSyntaxError\u001b[0m\u001b[1;31m:\u001b[0m invalid syntax\n"
     ]
    }
   ],
   "source": [
    "class Python: #class\n",
    "    def hello(self) #method\n",
    "obj= python() #object"
   ]
  },
  {
   "cell_type": "code",
   "execution_count": 3,
   "metadata": {},
   "outputs": [
    {
     "name": "stdout",
     "output_type": "stream",
     "text": [
      "hello world\n"
     ]
    }
   ],
   "source": [
    "class Python:\n",
    "    print(\"hello world\")\n",
    "obj=Python()\n"
   ]
  },
  {
   "cell_type": "code",
   "execution_count": 4,
   "metadata": {},
   "outputs": [
    {
     "name": "stdout",
     "output_type": "stream",
     "text": [
      "hello world\n"
     ]
    },
    {
     "data": {
      "text/plain": [
       "<__main__.Python at 0x1d64dced8b0>"
      ]
     },
     "execution_count": 4,
     "metadata": {},
     "output_type": "execute_result"
    }
   ],
   "source": [
    "class Python:             #class\n",
    "    print(\"hello world\")  # attributes\n",
    "Python()\n"
   ]
  },
  {
   "cell_type": "code",
   "execution_count": 7,
   "metadata": {},
   "outputs": [
    {
     "name": "stdout",
     "output_type": "stream",
     "text": [
      "hello world\n"
     ]
    }
   ],
   "source": [
    "class Python:         #class\n",
    "    def hello(self):          #method\n",
    "        print(\"hello world\")\n",
    "     \n",
    "obj=Python()#object\n",
    "obj.hello()   # functon calling\n",
    "# self is a parameter and current reference of the class.\n",
    "\n"
   ]
  },
  {
   "cell_type": "code",
   "execution_count": 11,
   "metadata": {},
   "outputs": [
    {
     "name": "stdout",
     "output_type": "stream",
     "text": [
      "hello world\n"
     ]
    }
   ],
   "source": [
    "class Python:\n",
    "    def hello(x,self):\n",
    "        print(self)\n",
    "        \n",
    "obj=Python()\n",
    "obj.hello(\"hello world\")\n"
   ]
  },
  {
   "cell_type": "code",
   "execution_count": 12,
   "metadata": {},
   "outputs": [
    {
     "name": "stdout",
     "output_type": "stream",
     "text": [
      "hello world\n"
     ]
    }
   ],
   "source": [
    "class Python:\n",
    "    def hello(self,x):\n",
    "        print(x)\n",
    "        \n",
    "obj=Python()\n",
    "obj.hello(\"hello world\")\n"
   ]
  },
  {
   "cell_type": "code",
   "execution_count": 15,
   "metadata": {},
   "outputs": [
    {
     "name": "stdout",
     "output_type": "stream",
     "text": [
      "enter r=5\n",
      "enter l=4\n",
      "enter b=6\n",
      "enter h=7\n",
      "78.57142857142857\n",
      "168\n"
     ]
    }
   ],
   "source": [
    "class Cal:\n",
    "    def areaofcrc(self,r):\n",
    "        a=22/7*r**2\n",
    "        return a\n",
    "    def volume(self,l,b,h):\n",
    "        v=l*b*h\n",
    "        return v\n",
    "obj = Cal()\n",
    "r= int(input(\"enter r=\"))\n",
    "l=int(input(\"enter l=\"))\n",
    "b= int(input(\"enter b=\"))\n",
    "h=int(input(\"enter h=\"))\n",
    "print(obj.areaofcrc(r))\n",
    "print(obj.volume(l,b,h))"
   ]
  },
  {
   "cell_type": "code",
   "execution_count": 22,
   "metadata": {},
   "outputs": [
    {
     "name": "stdout",
     "output_type": "stream",
     "text": [
      "Hello world\n"
     ]
    }
   ],
   "source": [
    "#__init__() to pass value from class\n",
    "class Hello:\n",
    "    def __init__(self,x): # to hold the value of class\n",
    "        self.hey= x\n",
    "    def hello(self):\n",
    "        print(self.hey)\n",
    "        \n",
    "obj= Hello(\"Hello world\")\n",
    "obj.hello()\n",
    "\n",
    "#__ is not a ordinary function that should be called or works on priority basis.\n"
   ]
  },
  {
   "cell_type": "code",
   "execution_count": 23,
   "metadata": {},
   "outputs": [
    {
     "name": "stdout",
     "output_type": "stream",
     "text": [
      "enter l=5\n",
      "enter b=6\n",
      "enter h=9\n",
      "30\n",
      "180\n",
      "5\n"
     ]
    }
   ],
   "source": [
    "class Cal:\n",
    "    def __init__(self,l,b,h):\n",
    "        self.l=l\n",
    "        self.b=b\n",
    "        self.h=h\n",
    "    def area(this):\n",
    "        a=this.l*this.b\n",
    "        return a\n",
    "    def volume(self):\n",
    "        v= self.l*self.b*self.h\n",
    "        return v\n",
    "l=int(input(\"enter l=\"))\n",
    "b= int(input(\"enter b=\"))\n",
    "h=int(input(\"enter h=\"))\n",
    "obj = Cal(l,b,h)\n",
    "print(obj.area())\n",
    "print(obj.volume())\n",
    "print(obj.l) # toextract values of one function outside of class"
   ]
  },
  {
   "cell_type": "code",
   "execution_count": 2,
   "metadata": {},
   "outputs": [
    {
     "name": "stdout",
     "output_type": "stream",
     "text": [
      "enter l=5\n",
      "enter b=8\n",
      "enter h=10\n",
      "40\n",
      "400\n"
     ]
    }
   ],
   "source": [
    "# to use value of height from outside the function\n",
    "class Cal:\n",
    "    def __init__(self,l,b):\n",
    "        self.l=l\n",
    "        self.b=b\n",
    "        \n",
    "    def area(this):\n",
    "        a=this.l*this.b\n",
    "        return a\n",
    "    def volume(self,h):\n",
    "        v= self.l*self.b*h\n",
    "        return v\n",
    "l=int(input(\"enter l=\"))\n",
    "b= int(input(\"enter b=\"))\n",
    "h=int(input(\"enter h=\"))\n",
    "obj = Cal(l,b)\n",
    "print(obj.area())\n",
    "print(obj.volume(h))\n"
   ]
  },
  {
   "cell_type": "code",
   "execution_count": 7,
   "metadata": {},
   "outputs": [
    {
     "name": "stdout",
     "output_type": "stream",
     "text": [
      "enter l=5\n",
      "enter b=7\n",
      "enter h=9\n",
      "35\n",
      "315\n",
      "5\n",
      "5\n"
     ]
    }
   ],
   "source": [
    "class Area:\n",
    "    def __init__(self,l,b):\n",
    "        self.l=l\n",
    "        self.b=b\n",
    "    def area(this):\n",
    "        a= this.l*this.b\n",
    "        return a\n",
    "class Volume:\n",
    "    def __init__(self,l,b,h):\n",
    "        self.l=l\n",
    "        self.b=b\n",
    "        self.h=h\n",
    "    \n",
    "    def volume(self):\n",
    "        v= self.l*self.b*self.h\n",
    "        return v\n",
    "l=int(input(\"enter l=\"))\n",
    "b= int(input(\"enter b=\"))\n",
    "h=int(input(\"enter h=\"))\n",
    "obj1 = Area(l,b)\n",
    "obj2= Volume(l,b,h)\n",
    "print(obj1.area())\n",
    "print(obj2.volume())\n",
    "print(obj2.l)\n",
    "print(obj1.l)\n",
    "    "
   ]
  },
  {
   "cell_type": "code",
   "execution_count": 8,
   "metadata": {},
   "outputs": [
    {
     "name": "stdout",
     "output_type": "stream",
     "text": [
      "Hello world\n",
      "Hello world\n",
      "Hello world\n"
     ]
    }
   ],
   "source": [
    "# __str__method returns only string values\n",
    "class Hello:\n",
    "    def __init__(self,x):\n",
    "        self.hi=x\n",
    "    def __str__(self):\n",
    "        return self.hi\n",
    "obj= Hello(\"Hello world\")\n",
    "print(obj)\n",
    "print(obj.__str__())\n",
    "print(str(obj))"
   ]
  },
  {
   "cell_type": "code",
   "execution_count": 10,
   "metadata": {},
   "outputs": [
    {
     "name": "stdout",
     "output_type": "stream",
     "text": [
      "['Hello ', 'world']\n"
     ]
    }
   ],
   "source": [
    "class Hello:\n",
    "    def __init__(self,x,y):\n",
    "        self.x=x\n",
    "        self.y=y\n",
    "    def __repr__(self):\n",
    "        return [self.x,self.y]\n",
    "obj= Hello(\"Hello \",\"world\")\n",
    "\n",
    "print(obj.__repr__())"
   ]
  },
  {
   "cell_type": "code",
   "execution_count": 4,
   "metadata": {},
   "outputs": [
    {
     "name": "stdout",
     "output_type": "stream",
     "text": [
      "Hello my nam is Ram and i line in Patan\n"
     ]
    }
   ],
   "source": [
    "#inheritance\n",
    "class Profile:\n",
    "    def __init__(self,name,address):\n",
    "        self.name=name\n",
    "        self.address=address\n",
    "class Hr(Profile):\n",
    "    def info(self):\n",
    "        print(f\"Hello my nam is {self.name} and i line in {self.address}\")\n",
    "        \n",
    "        \n",
    "abj=Hr(\"Ram\",'Patan')\n",
    "abj.info()\n",
    "\n",
    "        "
   ]
  },
  {
   "cell_type": "code",
   "execution_count": 5,
   "metadata": {},
   "outputs": [
    {
     "name": "stdout",
     "output_type": "stream",
     "text": [
      "Hello my nam is Ram. i live in Patan. i am 55 years old.\n"
     ]
    }
   ],
   "source": [
    "\n",
    "class Profile:\n",
    "    def __init__(self,name,address):\n",
    "        self.name=name\n",
    "        self.address=address\n",
    "class Hr(Profile):\n",
    "    def __init__(self,name,address,age):\n",
    "        self.age= age\n",
    "        Profile.__init__(self,name,address)#by doing this we can access the init function og profile class.\n",
    "    def info(self):\n",
    "        print(f\"Hello my nam is {self.name}. i live in {self.address}. i am {self.age} years old.\")\n",
    "        \n",
    "        \n",
    "abj=Hr(\"Ram\",'Patan',55)\n",
    "abj.info()\n",
    "\n",
    "        "
   ]
  },
  {
   "cell_type": "code",
   "execution_count": 6,
   "metadata": {},
   "outputs": [
    {
     "name": "stdout",
     "output_type": "stream",
     "text": [
      "55\n",
      "Hello my nam is Ram. i live in Patan. i am 55 years old.\n"
     ]
    }
   ],
   "source": [
    "class Profile:\n",
    "    def __init__(self,name,address):\n",
    "        self.name=name\n",
    "        self.address=address\n",
    "        print(self.age)\n",
    "class Hr(Profile):\n",
    "    def __init__(self,name,address,age):\n",
    "        self.age= age\n",
    "        Profile.__init__(self,name,address)#by doing this we can access the init function og profile class.\n",
    "    def info(self):\n",
    "        print(f\"Hello my nam is {self.name}. i live in {self.address}. i am {self.age} years old.\")\n",
    "        \n",
    "        \n",
    "abj=Hr(\"Ram\",'Patan',55)\n",
    "abj.info()\n"
   ]
  },
  {
   "cell_type": "code",
   "execution_count": 8,
   "metadata": {},
   "outputs": [
    {
     "name": "stdout",
     "output_type": "stream",
     "text": [
      "This is class A.\n",
      "this is class b\n",
      "this is class c\n"
     ]
    }
   ],
   "source": [
    "#multilevel inheritance\n",
    "# n number of classes inherting from one to another and goes from top to down approach.\n",
    "class A:\n",
    "    print(\"This is class A.\")\n",
    "class B(A):\n",
    "    print(\"this is class b\")\n",
    "class C(B):\n",
    "    print(\"this is class c\")\n",
    "obj=C()"
   ]
  },
  {
   "cell_type": "code",
   "execution_count": 9,
   "metadata": {},
   "outputs": [
    {
     "name": "stdout",
     "output_type": "stream",
     "text": [
      "This is class A.\n",
      "this is class b\n",
      "this is class c\n"
     ]
    }
   ],
   "source": [
    "#multiple inheritance\n",
    "class A:\n",
    "    print(\"This is class A.\")\n",
    "class B():\n",
    "    print(\"this is class b\")\n",
    "class C(A,B):\n",
    "    print(\"this is class c\")\n",
    "obj=C()\n"
   ]
  },
  {
   "cell_type": "code",
   "execution_count": 13,
   "metadata": {},
   "outputs": [
    {
     "ename": "AttributeError",
     "evalue": "'C' object has no attribute 'a'",
     "output_type": "error",
     "traceback": [
      "\u001b[1;31m---------------------------------------------------------------------------\u001b[0m",
      "\u001b[1;31mAttributeError\u001b[0m                            Traceback (most recent call last)",
      "\u001b[1;32m<ipython-input-13-4975ea981e34>\u001b[0m in \u001b[0;36m<module>\u001b[1;34m\u001b[0m\n\u001b[0;32m      9\u001b[0m         \u001b[0mprint\u001b[0m\u001b[1;33m(\u001b[0m\u001b[1;34m\"this is class c\"\u001b[0m\u001b[1;33m)\u001b[0m\u001b[1;33m\u001b[0m\u001b[1;33m\u001b[0m\u001b[0m\n\u001b[0;32m     10\u001b[0m \u001b[0mobj\u001b[0m\u001b[1;33m=\u001b[0m\u001b[0mC\u001b[0m\u001b[1;33m(\u001b[0m\u001b[1;33m)\u001b[0m\u001b[1;33m\u001b[0m\u001b[1;33m\u001b[0m\u001b[0m\n\u001b[1;32m---> 11\u001b[1;33m \u001b[0mobj\u001b[0m\u001b[1;33m.\u001b[0m\u001b[0ma\u001b[0m\u001b[1;33m(\u001b[0m\u001b[1;33m)\u001b[0m\u001b[1;33m\u001b[0m\u001b[1;33m\u001b[0m\u001b[0m\n\u001b[0m\u001b[0;32m     12\u001b[0m \u001b[0mobj\u001b[0m\u001b[1;33m.\u001b[0m\u001b[0mb\u001b[0m\u001b[1;33m(\u001b[0m\u001b[1;33m)\u001b[0m\u001b[1;33m\u001b[0m\u001b[1;33m\u001b[0m\u001b[0m\n",
      "\u001b[1;31mAttributeError\u001b[0m: 'C' object has no attribute 'a'"
     ]
    }
   ],
   "source": [
    "class A:\n",
    "    def a(self):\n",
    "        print(\"This is class A.\")\n",
    "class B():\n",
    "    def b(self):\n",
    "        print(\"this is class b\")\n",
    "class C():\n",
    "    def c(self):\n",
    "        print(\"this is class c\")\n",
    "obj=C()\n",
    "obj.a()\n",
    "obj.b()\n"
   ]
  },
  {
   "cell_type": "code",
   "execution_count": 12,
   "metadata": {},
   "outputs": [
    {
     "name": "stdout",
     "output_type": "stream",
     "text": [
      "This is class A.\n",
      "this is class b\n",
      "this is class c\n"
     ]
    }
   ],
   "source": [
    "class A:\n",
    "    def a(self):\n",
    "        print(\"This is class A.\")\n",
    "class B():\n",
    "    def b(self):\n",
    "        print(\"this is class b\")\n",
    "class C(A,B):\n",
    "    def c(self):\n",
    "        print(\"this is class c\")\n",
    "obj=C()\n",
    "obj.a()\n",
    "obj.b()\n",
    "obj.c()"
   ]
  },
  {
   "cell_type": "code",
   "execution_count": 3,
   "metadata": {},
   "outputs": [
    {
     "name": "stdout",
     "output_type": "stream",
     "text": [
      "Hello my name is Ram. i live in Patan. i am 55 years old.\n"
     ]
    }
   ],
   "source": [
    "class Profile:\n",
    "    def __init__(self,address):\n",
    "        self.address=address\n",
    "        \n",
    "class Hr(Profile):\n",
    "    def __init__(self,name):\n",
    "        self.name= name\n",
    "class office(Hr):\n",
    "    def __init__(self,name,address,age):\n",
    "        \n",
    "            Hr.__init__(self,name)\n",
    "            Profile.__init__(self,address)\n",
    "            self.age=age\n",
    "            \n",
    "    def info(self):\n",
    "        print(f\"Hello my name is {self.name}. i live in {self.address}. i am {self.age} years old.\")\n",
    "        \n",
    "        \n",
    "obj=office(\"Ram\",'Patan',55)\n",
    "obj.info()\n"
   ]
  },
  {
   "cell_type": "code",
   "execution_count": 5,
   "metadata": {},
   "outputs": [
    {
     "name": "stdout",
     "output_type": "stream",
     "text": [
      "Hello my nam is Ram. i live in Patan. i am 55 years old.\n"
     ]
    }
   ],
   "source": [
    "class Profile:\n",
    "    def __init__(self,address):\n",
    "        \n",
    "        self.address=address\n",
    "        \n",
    "class Hr():\n",
    "    def __init__(self,name):\n",
    "        self.name=name\n",
    "class office(Hr,Profile):\n",
    "    def __init__(self,name,address,age):\n",
    "    \n",
    "        Hr.__init__(self,name)\n",
    "        Profile.__init__(self,address)\n",
    "        self.age=age\n",
    "        #by doing this we can access the init function og profile class.\n",
    "    def info(self):\n",
    "        print(f\"Hello my nam is {self.name}. i live in {self.address}. i am {self.age} years old.\")\n",
    "        \n",
    "        \n",
    "abj=office(\"Ram\",'Patan',55)\n",
    "abj.info()\n"
   ]
  },
  {
   "cell_type": "code",
   "execution_count": 7,
   "metadata": {},
   "outputs": [
    {
     "name": "stdout",
     "output_type": "stream",
     "text": [
      "Ram\n",
      "35\n"
     ]
    }
   ],
   "source": [
    "#public attribute\n",
    "class info:\n",
    "    def __init__(self,name,age):\n",
    "        self.name=name\n",
    "        self.age=age\n",
    "obj=info(\"Ram\",35)\n",
    "print(obj.name)\n",
    "print(obj.age)\n"
   ]
  },
  {
   "cell_type": "code",
   "execution_count": 9,
   "metadata": {},
   "outputs": [
    {
     "ename": "AttributeError",
     "evalue": "'info' object has no attribute 'name'",
     "output_type": "error",
     "traceback": [
      "\u001b[1;31m---------------------------------------------------------------------------\u001b[0m",
      "\u001b[1;31mAttributeError\u001b[0m                            Traceback (most recent call last)",
      "\u001b[1;32m<ipython-input-9-750c3a9ba102>\u001b[0m in \u001b[0;36m<module>\u001b[1;34m\u001b[0m\n\u001b[0;32m      5\u001b[0m         \u001b[0mself\u001b[0m\u001b[1;33m.\u001b[0m\u001b[0m_age\u001b[0m\u001b[1;33m=\u001b[0m\u001b[0mage\u001b[0m\u001b[1;33m\u001b[0m\u001b[1;33m\u001b[0m\u001b[0m\n\u001b[0;32m      6\u001b[0m \u001b[0mobj\u001b[0m\u001b[1;33m=\u001b[0m\u001b[0minfo\u001b[0m\u001b[1;33m(\u001b[0m\u001b[1;34m\"Ram\"\u001b[0m\u001b[1;33m,\u001b[0m\u001b[1;36m35\u001b[0m\u001b[1;33m)\u001b[0m\u001b[1;33m\u001b[0m\u001b[1;33m\u001b[0m\u001b[0m\n\u001b[1;32m----> 7\u001b[1;33m \u001b[0mprint\u001b[0m\u001b[1;33m(\u001b[0m\u001b[0mobj\u001b[0m\u001b[1;33m.\u001b[0m\u001b[0mname\u001b[0m\u001b[1;33m)\u001b[0m\u001b[1;33m\u001b[0m\u001b[1;33m\u001b[0m\u001b[0m\n\u001b[0m\u001b[0;32m      8\u001b[0m \u001b[0mprint\u001b[0m\u001b[1;33m(\u001b[0m\u001b[0mobj\u001b[0m\u001b[1;33m.\u001b[0m\u001b[0mage\u001b[0m\u001b[1;33m)\u001b[0m\u001b[1;33m\u001b[0m\u001b[1;33m\u001b[0m\u001b[0m\n\u001b[0;32m      9\u001b[0m \u001b[1;31m# error becoz no authority to acess from outside for class.\u001b[0m\u001b[1;33m\u001b[0m\u001b[1;33m\u001b[0m\u001b[1;33m\u001b[0m\u001b[0m\n",
      "\u001b[1;31mAttributeError\u001b[0m: 'info' object has no attribute 'name'"
     ]
    }
   ],
   "source": [
    "# protected attribute use single undercore\n",
    "class info:\n",
    "    def __init__(self,name,age):\n",
    "        self._name=name\n",
    "        self._age=age\n",
    "obj=info(\"Ram\",35)\n",
    "print(obj.name)\n",
    "print(obj.age)\n",
    "# error becoz no authority to acess from outside for class."
   ]
  },
  {
   "cell_type": "code",
   "execution_count": 10,
   "metadata": {},
   "outputs": [
    {
     "name": "stdout",
     "output_type": "stream",
     "text": [
      "Ram\n",
      "35\n"
     ]
    }
   ],
   "source": [
    "# to acess protected attribute\n",
    "class info:\n",
    "    def __init__(self,name,age):\n",
    "        self._name=name\n",
    "        self._age=age\n",
    "obj=info(\"Ram\",35)\n",
    "print(obj._name)\n",
    "print(obj._age)\n",
    "# onlu debugger can do"
   ]
  },
  {
   "cell_type": "code",
   "execution_count": 11,
   "metadata": {},
   "outputs": [
    {
     "ename": "AttributeError",
     "evalue": "'info' object has no attribute 'name'",
     "output_type": "error",
     "traceback": [
      "\u001b[1;31m---------------------------------------------------------------------------\u001b[0m",
      "\u001b[1;31mAttributeError\u001b[0m                            Traceback (most recent call last)",
      "\u001b[1;32m<ipython-input-11-3fb8c01ec66b>\u001b[0m in \u001b[0;36m<module>\u001b[1;34m\u001b[0m\n\u001b[0;32m      5\u001b[0m         \u001b[0mself\u001b[0m\u001b[1;33m.\u001b[0m\u001b[0m__age\u001b[0m\u001b[1;33m=\u001b[0m\u001b[0mage\u001b[0m\u001b[1;33m\u001b[0m\u001b[1;33m\u001b[0m\u001b[0m\n\u001b[0;32m      6\u001b[0m \u001b[0mobj\u001b[0m\u001b[1;33m=\u001b[0m\u001b[0minfo\u001b[0m\u001b[1;33m(\u001b[0m\u001b[1;34m\"Ram\"\u001b[0m\u001b[1;33m,\u001b[0m\u001b[1;36m35\u001b[0m\u001b[1;33m)\u001b[0m\u001b[1;33m\u001b[0m\u001b[1;33m\u001b[0m\u001b[0m\n\u001b[1;32m----> 7\u001b[1;33m \u001b[0mprint\u001b[0m\u001b[1;33m(\u001b[0m\u001b[0mobj\u001b[0m\u001b[1;33m.\u001b[0m\u001b[0mname\u001b[0m\u001b[1;33m)\u001b[0m\u001b[1;33m\u001b[0m\u001b[1;33m\u001b[0m\u001b[0m\n\u001b[0m\u001b[0;32m      8\u001b[0m \u001b[0mprint\u001b[0m\u001b[1;33m(\u001b[0m\u001b[0mobj\u001b[0m\u001b[1;33m.\u001b[0m\u001b[0mage\u001b[0m\u001b[1;33m)\u001b[0m\u001b[1;33m\u001b[0m\u001b[1;33m\u001b[0m\u001b[0m\n",
      "\u001b[1;31mAttributeError\u001b[0m: 'info' object has no attribute 'name'"
     ]
    }
   ],
   "source": [
    "#private attribute use double underscore\n",
    "class info:\n",
    "    def __init__(self,name,age):\n",
    "        self.__name=name\n",
    "        self.__age=age\n",
    "obj=info(\"Ram\",35)\n",
    "print(obj.name)\n",
    "print(obj.age)# we cant access private attribute "
   ]
  },
  {
   "cell_type": "code",
   "execution_count": 17,
   "metadata": {},
   "outputs": [
    {
     "name": "stdout",
     "output_type": "stream",
     "text": [
      "Ram\n",
      "35\n"
     ]
    }
   ],
   "source": [
    "# to access private members outside the class  for debugger we use name mameling\n",
    "class info:\n",
    "    def __init__(self,name,age):\n",
    "        self.__name=name\n",
    "        self.__age=age\n",
    "obj=info(\"Ram\",35)\n",
    "print(obj._info__name)\n",
    "print(obj._info__age)\n"
   ]
  },
  {
   "cell_type": "code",
   "execution_count": 5,
   "metadata": {},
   "outputs": [
    {
     "name": "stdout",
     "output_type": "stream",
     "text": [
      "Hello my nam is Ram.i am from Patan.i am 55 years old.\n"
     ]
    }
   ],
   "source": [
    "class Profile:\n",
    "    def __init__(self,address):\n",
    "        \n",
    "        self.__address=address\n",
    "        \n",
    "class Hr():\n",
    "    def __init__(self,name):\n",
    "        self._name=name\n",
    "class office(Hr,Profile):\n",
    "    def __init__(self,name,address,age):\n",
    "    \n",
    "        Hr.__init__(self,name)\n",
    "        Profile.__init__(self,address)\n",
    "        self.age=age\n",
    "        #by doing this we can access the init function og profile class.\n",
    "    def info(self):\n",
    "        print(f\"Hello my nam is {self._name}.i am from {self._Profile__address}.i am {self.age} years old.\")\n",
    "        \n",
    "        \n",
    "abj=office(\"Ram\",'Patan',55)\n",
    "abj.info()\n"
   ]
  },
  {
   "cell_type": "code",
   "execution_count": 6,
   "metadata": {},
   "outputs": [
    {
     "name": "stdout",
     "output_type": "stream",
     "text": [
      "Hello my nam is Ram.i am from Patan.i am 55 years old.\n"
     ]
    }
   ],
   "source": [
    "# super function to inherit methods\n",
    "class Profile:\n",
    "    def __init__(self,address):\n",
    "        \n",
    "        self.__address=address\n",
    "    def profile(self):\n",
    "        return self.__address\n",
    "        \n",
    "class Hr():\n",
    "    def __init__(self,name):\n",
    "        self._name=name\n",
    "class office(Hr,Profile):\n",
    "    def __init__(self,name,address,age):\n",
    "    \n",
    "        Hr.__init__(self,name)\n",
    "        Profile.__init__(self,address)\n",
    "        self.age=age\n",
    "        #by doing this we can access the init function og profile class.\n",
    "    def info(self):\n",
    "        print(f\"Hello my nam is {self._name}.i am from {super().profile()}.i am {self.age} years old.\")\n",
    "        \n",
    "        \n",
    "abj=office(\"Ram\",'Patan',55)\n",
    "abj.info()\n"
   ]
  }
 ],
 "metadata": {
  "kernelspec": {
   "display_name": "Python 3",
   "language": "python",
   "name": "python3"
  },
  "language_info": {
   "codemirror_mode": {
    "name": "ipython",
    "version": 3
   },
   "file_extension": ".py",
   "mimetype": "text/x-python",
   "name": "python",
   "nbconvert_exporter": "python",
   "pygments_lexer": "ipython3",
   "version": "3.8.5"
  }
 },
 "nbformat": 4,
 "nbformat_minor": 4
}
