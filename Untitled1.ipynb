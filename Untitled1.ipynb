{
 "cells": [
  {
   "cell_type": "code",
   "execution_count": 2,
   "metadata": {},
   "outputs": [
    {
     "name": "stdout",
     "output_type": "stream",
     "text": [
      "enter the value of n=2\n",
      "enter the student name=sila\n",
      "enter the marks in eng=32\n",
      "enter the marks in science=64\n",
      "enter the marks in math=97\n",
      "enter the marks in nepali=88\n",
      "enter the marks in account=65\n",
      "the total marks obtained is = 346\n",
      "fail\n",
      "enter the student name=56\n",
      "enter the marks in eng=57\n",
      "enter the marks in science=43\n",
      "enter the marks in math=54\n",
      "enter the marks in nepali=86\n",
      "enter the marks in account=90\n",
      "the total marks obtained is = 330\n",
      "the percentage is= 66.0\n",
      "First Divison\n"
     ]
    }
   ],
   "source": [
    "#string assignment\n",
    "n= int(input(\"enter the value of n=\"))\n",
    "total=500\n",
    "for i in range(n):\n",
    "    name= input(\"enter the student name=\")\n",
    "    eng=int(input(\"enter the marks in eng=\"))\n",
    "    sci=int(input(\"enter the marks in science=\"))\n",
    "    math=int(input(\"enter the marks in math=\"))\n",
    "    nepali=int(input(\"enter the marks in nepali=\"))\n",
    "    account=int(input(\"enter the marks in account=\"))\n",
    "    \n",
    "    marks =eng+sci+math+nepali+account\n",
    "    print(\"the total marks obtained is =\",marks)\n",
    "    if(eng>=40 and sci>=40 and math>=40 and nepali>=40 and account>=40):\n",
    "        per = marks*100/total\n",
    "        print(\"the percentage is=\",per)\n",
    "        if(per>=80):\n",
    "            print(\"distinction\")\n",
    "        elif(per>=60 or per<80):\n",
    "            print(\"First Divison\")\n",
    "        elif(per>=40 or per<60):\n",
    "            print(\"second division\")\n",
    "        else:\n",
    "            print(\"third division\")\n",
    "    else:\n",
    "        print(\"fail\")\n",
    "\n",
    "    \n"
   ]
  },
  {
   "cell_type": "code",
   "execution_count": 4,
   "metadata": {},
   "outputs": [
    {
     "name": "stdout",
     "output_type": "stream",
     "text": [
      "enter search itemapple\n",
      "not found\n"
     ]
    }
   ],
   "source": [
    "y = [\"Apple\",\"home\", \"Ball\",\"ball\"]\n",
    "ser = input(\"enter search item\").lower()\n",
    "flag = True\n",
    "item = 0\n",
    "for i in range(len(y)):\n",
    "    if ser in y[i].lower():\n",
    "        item = x.count(ser)\n",
    "        item += 1\n",
    "        flag = True\n",
    "    else:\n",
    "        flag = False\n",
    "if(flag):\n",
    "    print(item,\"found\")\n",
    "else:\n",
    "    print(\"not found\")"
   ]
  }
 ],
 "metadata": {
  "kernelspec": {
   "display_name": "Python 3",
   "language": "python",
   "name": "python3"
  },
  "language_info": {
   "codemirror_mode": {
    "name": "ipython",
    "version": 3
   },
   "file_extension": ".py",
   "mimetype": "text/x-python",
   "name": "python",
   "nbconvert_exporter": "python",
   "pygments_lexer": "ipython3",
   "version": "3.8.5"
  }
 },
 "nbformat": 4,
 "nbformat_minor": 4
}
