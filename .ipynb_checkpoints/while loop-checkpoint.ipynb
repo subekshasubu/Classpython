{
 "cells": [
  {
   "cell_type": "code",
   "execution_count": null,
   "metadata": {},
   "outputs": [],
   "source": [
    "#while\n",
    "\n",
    "while<condition>:\n",
    "    <operations>\n",
    "    <increment or decrement>"
   ]
  },
  {
   "cell_type": "code",
   "execution_count": 3,
   "metadata": {},
   "outputs": [
    {
     "name": "stdout",
     "output_type": "stream",
     "text": [
      "0 Hello world\n",
      "1 Hello world\n",
      "2 Hello world\n",
      "3 Hello world\n",
      "4 Hello world\n"
     ]
    }
   ],
   "source": [
    "a= 0\n",
    "while a<5:\n",
    "    print(a,\"Hello world\")\n",
    "    a+=1"
   ]
  },
  {
   "cell_type": "code",
   "execution_count": 5,
   "metadata": {},
   "outputs": [
    {
     "name": "stdout",
     "output_type": "stream",
     "text": [
      "1 hello world\n",
      "3 hello world\n",
      "5 hello world\n"
     ]
    }
   ],
   "source": [
    "a=1\n",
    "while a<=5:\n",
    "    print(a,\"hello world\")\n",
    "    a+=2"
   ]
  },
  {
   "cell_type": "code",
   "execution_count": 7,
   "metadata": {},
   "outputs": [
    {
     "name": "stdout",
     "output_type": "stream",
     "text": [
      "enter the value of n=5\n",
      "enter the value of x=4\n",
      "enter the value of x=5\n",
      "enter the value of x=6\n",
      "enter the value of x=7\n",
      "enter the value of x=4\n",
      "the sum is= 26\n"
     ]
    }
   ],
   "source": [
    "s=0\n",
    "i=0\n",
    "n = int(input(\"enter the value of n=\"))\n",
    "while i<n:\n",
    "    x = int(input(\"enter the value of x=\"))\n",
    "    s=s+x\n",
    "    i+=1\n",
    "print(\"the sum is=\",s)\n"
   ]
  },
  {
   "cell_type": "code",
   "execution_count": 8,
   "metadata": {},
   "outputs": [
    {
     "name": "stdout",
     "output_type": "stream",
     "text": [
      "5 python\n",
      "4 python\n",
      "3 python\n",
      "2 python\n"
     ]
    }
   ],
   "source": [
    "for i in range(5,1,-1):\n",
    "    print(i,\"python\")"
   ]
  },
  {
   "cell_type": "code",
   "execution_count": 2,
   "metadata": {},
   "outputs": [
    {
     "name": "stdout",
     "output_type": "stream",
     "text": [
      "5 python\n",
      "4 python\n",
      "3 python\n",
      "2 python\n"
     ]
    }
   ],
   "source": [
    "i=5\n",
    "while i>1:\n",
    "    print(i,\"python\")\n",
    "    i-=1"
   ]
  },
  {
   "cell_type": "code",
   "execution_count": 1,
   "metadata": {},
   "outputs": [
    {
     "name": "stdout",
     "output_type": "stream",
     "text": [
      "1 hello world\n",
      "3 hello world\n"
     ]
    }
   ],
   "source": [
    "for a in range(1,5,2):\n",
    "    print(a,\"hello world\")"
   ]
  },
  {
   "cell_type": "code",
   "execution_count": 2,
   "metadata": {},
   "outputs": [
    {
     "name": "stdout",
     "output_type": "stream",
     "text": [
      "1 hello world\n",
      "3 hello world\n",
      "5 hello world\n"
     ]
    }
   ],
   "source": [
    " a=1\n",
    "while a<=5:\n",
    "    print(a,\"hello world\")\n",
    "    a+=2"
   ]
  },
  {
   "cell_type": "code",
   "execution_count": 9,
   "metadata": {},
   "outputs": [
    {
     "data": {
      "text/plain": [
       "'p'"
      ]
     },
     "execution_count": 9,
     "metadata": {},
     "output_type": "execute_result"
    }
   ],
   "source": [
    "a =\"python\"\n",
    "a[0]"
   ]
  },
  {
   "cell_type": "code",
   "execution_count": 11,
   "metadata": {},
   "outputs": [
    {
     "name": "stdout",
     "output_type": "stream",
     "text": [
      "5 n\n",
      "4 o\n",
      "3 h\n",
      "2 t\n",
      "1 y\n",
      "0 p\n"
     ]
    }
   ],
   "source": [
    "a= \"python\"\n",
    "for i in range(5,-1,-1):\n",
    "    print(i,a[i])"
   ]
  },
  {
   "cell_type": "code",
   "execution_count": 12,
   "metadata": {},
   "outputs": [
    {
     "name": "stdout",
     "output_type": "stream",
     "text": [
      "5 n\n",
      "4 o\n",
      "3 h\n",
      "2 t\n",
      "1 y\n",
      "0 p\n"
     ]
    }
   ],
   "source": [
    "a=\"python\"\n",
    "length = len(a)\n",
    "while length-1>=0:\n",
    "    \n",
    "    length-=1\n",
    "    print(length,a[length])\n",
    "    "
   ]
  },
  {
   "cell_type": "code",
   "execution_count": 12,
   "metadata": {},
   "outputs": [
    {
     "name": "stdout",
     "output_type": "stream",
     "text": [
      "nohtyp"
     ]
    }
   ],
   "source": [
    "a= \"python\"\n",
    "for i in range(5,-1,-1):\n",
    "    print(a[i],end='')"
   ]
  },
  {
   "cell_type": "code",
   "execution_count": 14,
   "metadata": {},
   "outputs": [
    {
     "name": "stdout",
     "output_type": "stream",
     "text": [
      "enter a=python\n",
      "6\n",
      "5\n",
      "4\n",
      "3\n",
      "2\n",
      "1\n"
     ]
    }
   ],
   "source": [
    "a= input(\"enter a=\")\n",
    "n=len(a)\n",
    "while n>0:\n",
    "# for i in range(5,-1,-1):\n",
    "    print(n)\n",
    "    n-=1\n",
    "    "
   ]
  },
  {
   "cell_type": "code",
   "execution_count": 22,
   "metadata": {},
   "outputs": [
    {
     "name": "stdout",
     "output_type": "stream",
     "text": [
      "enter a=happy\n",
      "yppah"
     ]
    }
   ],
   "source": [
    "a= input(\"enter a=\")\n",
    "n=len(a)\n",
    "while n-1>=0:\n",
    "# for i in range(5,-1,-1):\n",
    "    n=n-1\n",
    "    print(a[n],end=\"\")"
   ]
  },
  {
   "cell_type": "code",
   "execution_count": 21,
   "metadata": {},
   "outputs": [
    {
     "name": "stdout",
     "output_type": "stream",
     "text": [
      "enter a=happy\n",
      "yppah"
     ]
    }
   ],
   "source": [
    "a= input(\"enter a=\")\n",
    "n=len(a)\n",
    "index = n-1\n",
    "while index >=0:\n",
    "# for i in range(5,-1,-1):\n",
    "    index-=1\n",
    "    print(a[index+1],end=\"\")\n",
    "    "
   ]
  },
  {
   "cell_type": "code",
   "execution_count": 2,
   "metadata": {},
   "outputs": [
    {
     "name": "stdout",
     "output_type": "stream",
     "text": [
      "0 hello\n",
      "1 hello\n",
      "2 hello\n",
      "3 hello\n",
      "4 hello\n"
     ]
    }
   ],
   "source": [
    "i = 0\n",
    "while i<5:\n",
    "    print(i,\"hello\")\n",
    "    i+=1"
   ]
  },
  {
   "cell_type": "code",
   "execution_count": 23,
   "metadata": {},
   "outputs": [
    {
     "name": "stdout",
     "output_type": "stream",
     "text": [
      "enter the value of n=10\n",
      "10 * 1 = 10\n",
      "10 * 2 = 20\n",
      "10 * 3 = 30\n",
      "10 * 4 = 40\n",
      "10 * 5 = 50\n",
      "10 * 6 = 60\n",
      "10 * 7 = 70\n",
      "10 * 8 = 80\n",
      "10 * 9 = 90\n",
      "10 * 10 = 100\n"
     ]
    }
   ],
   "source": [
    "n=int(input(\"enter the value of n=\"))\n",
    "i=1\n",
    "while i<=10:\n",
    "    print(n,\"*\",i,\"=\",n*i)\n",
    "    i+=1"
   ]
  },
  {
   "cell_type": "code",
   "execution_count": 27,
   "metadata": {},
   "outputs": [
    {
     "name": "stdout",
     "output_type": "stream",
     "text": [
      "enter the value of n=10\n",
      "the factorial is= 1\n",
      "the factorial is= 2\n",
      "the factorial is= 6\n",
      "the factorial is= 24\n",
      "the factorial is= 120\n",
      "the factorial is= 720\n",
      "the factorial is= 5040\n",
      "the factorial is= 40320\n",
      "the factorial is= 362880\n",
      "the factorial is= 3628800\n",
      "3628800\n"
     ]
    }
   ],
   "source": [
    "fac =1\n",
    "i=1\n",
    "n=int(input(\"enter the value of n=\"))\n",
    "while n>=i:\n",
    "    fac = fac*i\n",
    "    i+=1\n",
    "    print(\"the factorial is=\",fac)\n",
    "print(fac)"
   ]
  },
  {
   "cell_type": "code",
   "execution_count": 29,
   "metadata": {},
   "outputs": [
    {
     "name": "stdout",
     "output_type": "stream",
     "text": [
      "enter n=2\n",
      "enter the name=ram\n",
      "enter the phone no=8765433\n",
      "invalid number\n",
      "enter the name=sita\n",
      "enter the phone no=9876543210\n",
      "the entry is= sita...9876543210\n",
      "\n"
     ]
    }
   ],
   "source": [
    "s=\"\"\n",
    "n=int(input(\"enter n=\"))\n",
    "i=0\n",
    "while i<n:\n",
    "    name = input(\"enter the name=\")\n",
    "    phone = input(\"enter the phone no=\")\n",
    "    l=len(phone)\n",
    "    if l==10:\n",
    "        s = s+ name+ \"...\" +phone+\"\\n\"\n",
    "    else:\n",
    "        print(\"invalid number\")\n",
    "    i+=1\n",
    "print(\"the entry is=\",s)"
   ]
  },
  {
   "cell_type": "code",
   "execution_count": 50,
   "metadata": {},
   "outputs": [
    {
     "name": "stdout",
     "output_type": "stream",
     "text": [
      "enter the value of n=10\n",
      "0\n",
      "1\n",
      "1\n",
      "2\n",
      "3\n",
      "5\n",
      "8\n",
      "13\n",
      "21\n",
      "34\n",
      "the sum is= 89"
     ]
    }
   ],
   "source": [
    " #fibonacci series\n",
    "a=0\n",
    "b=1\n",
    "count=1\n",
    "sum=0\n",
    "n=int(input(\"enter the value of n=\"))\n",
    "while count<=n:\n",
    "    print(a)\n",
    "    count+=1\n",
    "    sum=a+b\n",
    "    a=b\n",
    "    b=sum\n",
    "    \n",
    "print(\"the sum is=\",sum,end=\"\")\n",
    "    "
   ]
  }
 ],
 "metadata": {
  "kernelspec": {
   "display_name": "Python 3",
   "language": "python",
   "name": "python3"
  },
  "language_info": {
   "codemirror_mode": {
    "name": "ipython",
    "version": 3
   },
   "file_extension": ".py",
   "mimetype": "text/x-python",
   "name": "python",
   "nbconvert_exporter": "python",
   "pygments_lexer": "ipython3",
   "version": "3.8.5"
  }
 },
 "nbformat": 4,
 "nbformat_minor": 4
}
